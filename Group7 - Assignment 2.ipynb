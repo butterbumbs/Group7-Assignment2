{
 "cells": [
  {
   "cell_type": "markdown",
   "id": "c09bd1b8",
   "metadata": {},
   "source": [
    "# Assignment 2 - Sentiment Analysis with VADER"
   ]
  },
  {
   "cell_type": "markdown",
   "id": "c9432287",
   "metadata": {},
   "source": [
    "This is our Sentiment Analysis with VADER with bag of words approach. In this program, it managed to read in a dataset and analyze the sentiment polarity (positive, negative or neutral). Also, it computes a sentiment intensity score which shows the strength of the sentiment expressed in the text. It also provides a compound value which is a score that represents the overall sentiment of the text. "
   ]
  },
  {
   "cell_type": "markdown",
   "id": "b8fc0931",
   "metadata": {},
   "source": [
    "# Read in datas and import pandas"
   ]
  },
  {
   "cell_type": "code",
   "execution_count": 1,
   "id": "d7f8d590",
   "metadata": {},
   "outputs": [
    {
     "name": "stdout",
     "output_type": "stream",
     "text": [
      "Requirement already satisfied: dataset in c:\\users\\kenn\\anaconda3\\lib\\site-packages (1.6.2)Note: you may need to restart the kernel to use updated packages.\n",
      "\n",
      "Requirement already satisfied: sqlalchemy<2.0.0,>=1.3.2 in c:\\users\\kenn\\anaconda3\\lib\\site-packages (from dataset) (1.4.39)\n",
      "Requirement already satisfied: alembic>=0.6.2 in c:\\users\\kenn\\anaconda3\\lib\\site-packages (from dataset) (1.12.1)\n",
      "Requirement already satisfied: banal>=1.0.1 in c:\\users\\kenn\\anaconda3\\lib\\site-packages (from dataset) (1.0.6)\n",
      "Requirement already satisfied: Mako in c:\\users\\kenn\\anaconda3\\lib\\site-packages (from alembic>=0.6.2->dataset) (1.3.0)\n",
      "Requirement already satisfied: typing-extensions>=4 in c:\\users\\kenn\\anaconda3\\lib\\site-packages (from alembic>=0.6.2->dataset) (4.7.1)\n",
      "Requirement already satisfied: greenlet!=0.4.17 in c:\\users\\kenn\\anaconda3\\lib\\site-packages (from sqlalchemy<2.0.0,>=1.3.2->dataset) (2.0.1)\n",
      "Requirement already satisfied: MarkupSafe>=0.9.2 in c:\\users\\kenn\\anaconda3\\lib\\site-packages (from Mako->alembic>=0.6.2->dataset) (2.1.1)\n"
     ]
    }
   ],
   "source": [
    "pip install dataset"
   ]
  },
  {
   "cell_type": "code",
   "execution_count": 2,
   "id": "52bd807a",
   "metadata": {},
   "outputs": [],
   "source": [
    "from datasets import load_dataset\n",
    "dataset = load_dataset(\"imdb\")"
   ]
  },
  {
   "cell_type": "code",
   "execution_count": 3,
   "id": "5f28e34a",
   "metadata": {},
   "outputs": [],
   "source": [
    "import pandas as pd\n",
    "import numpy as np\n",
    "import nltk\n",
    "from nltk.tokenize import word_tokenize\n"
   ]
  },
  {
   "cell_type": "markdown",
   "id": "4327d62d",
   "metadata": {},
   "source": [
    "### Training data"
   ]
  },
  {
   "cell_type": "code",
   "execution_count": 4,
   "id": "c6655dc4",
   "metadata": {},
   "outputs": [
    {
     "data": {
      "text/html": [
       "<div>\n",
       "<style scoped>\n",
       "    .dataframe tbody tr th:only-of-type {\n",
       "        vertical-align: middle;\n",
       "    }\n",
       "\n",
       "    .dataframe tbody tr th {\n",
       "        vertical-align: top;\n",
       "    }\n",
       "\n",
       "    .dataframe thead th {\n",
       "        text-align: right;\n",
       "    }\n",
       "</style>\n",
       "<table border=\"1\" class=\"dataframe\">\n",
       "  <thead>\n",
       "    <tr style=\"text-align: right;\">\n",
       "      <th></th>\n",
       "      <th>text</th>\n",
       "      <th>label</th>\n",
       "    </tr>\n",
       "  </thead>\n",
       "  <tbody>\n",
       "    <tr>\n",
       "      <th>0</th>\n",
       "      <td>I rented I AM CURIOUS-YELLOW from my video sto...</td>\n",
       "      <td>0</td>\n",
       "    </tr>\n",
       "    <tr>\n",
       "      <th>1</th>\n",
       "      <td>\"I Am Curious: Yellow\" is a risible and preten...</td>\n",
       "      <td>0</td>\n",
       "    </tr>\n",
       "    <tr>\n",
       "      <th>2</th>\n",
       "      <td>If only to avoid making this type of film in t...</td>\n",
       "      <td>0</td>\n",
       "    </tr>\n",
       "    <tr>\n",
       "      <th>3</th>\n",
       "      <td>This film was probably inspired by Godard's Ma...</td>\n",
       "      <td>0</td>\n",
       "    </tr>\n",
       "    <tr>\n",
       "      <th>4</th>\n",
       "      <td>Oh, brother...after hearing about this ridicul...</td>\n",
       "      <td>0</td>\n",
       "    </tr>\n",
       "    <tr>\n",
       "      <th>...</th>\n",
       "      <td>...</td>\n",
       "      <td>...</td>\n",
       "    </tr>\n",
       "    <tr>\n",
       "      <th>24995</th>\n",
       "      <td>A hit at the time but now better categorised a...</td>\n",
       "      <td>1</td>\n",
       "    </tr>\n",
       "    <tr>\n",
       "      <th>24996</th>\n",
       "      <td>I love this movie like no other. Another time ...</td>\n",
       "      <td>1</td>\n",
       "    </tr>\n",
       "    <tr>\n",
       "      <th>24997</th>\n",
       "      <td>This film and it's sequel Barry Mckenzie holds...</td>\n",
       "      <td>1</td>\n",
       "    </tr>\n",
       "    <tr>\n",
       "      <th>24998</th>\n",
       "      <td>'The Adventures Of Barry McKenzie' started lif...</td>\n",
       "      <td>1</td>\n",
       "    </tr>\n",
       "    <tr>\n",
       "      <th>24999</th>\n",
       "      <td>The story centers around Barry McKenzie who mu...</td>\n",
       "      <td>1</td>\n",
       "    </tr>\n",
       "  </tbody>\n",
       "</table>\n",
       "<p>25000 rows × 2 columns</p>\n",
       "</div>"
      ],
      "text/plain": [
       "                                                    text  label\n",
       "0      I rented I AM CURIOUS-YELLOW from my video sto...      0\n",
       "1      \"I Am Curious: Yellow\" is a risible and preten...      0\n",
       "2      If only to avoid making this type of film in t...      0\n",
       "3      This film was probably inspired by Godard's Ma...      0\n",
       "4      Oh, brother...after hearing about this ridicul...      0\n",
       "...                                                  ...    ...\n",
       "24995  A hit at the time but now better categorised a...      1\n",
       "24996  I love this movie like no other. Another time ...      1\n",
       "24997  This film and it's sequel Barry Mckenzie holds...      1\n",
       "24998  'The Adventures Of Barry McKenzie' started lif...      1\n",
       "24999  The story centers around Barry McKenzie who mu...      1\n",
       "\n",
       "[25000 rows x 2 columns]"
      ]
     },
     "execution_count": 4,
     "metadata": {},
     "output_type": "execute_result"
    }
   ],
   "source": [
    "train_data = dataset[\"train\"]\n",
    "test_data = dataset[\"test\"]\n",
    "df = pd.DataFrame(train_data)\n",
    "df"
   ]
  },
  {
   "cell_type": "markdown",
   "id": "0b0bad35",
   "metadata": {},
   "source": [
    "### Import Sentiment Analyzer"
   ]
  },
  {
   "cell_type": "markdown",
   "id": "66af2135",
   "metadata": {},
   "source": [
    "Here we import the analyser and we analyzed the polarity scores with an example"
   ]
  },
  {
   "cell_type": "code",
   "execution_count": 5,
   "id": "ba22302a",
   "metadata": {},
   "outputs": [],
   "source": [
    "from nltk.sentiment import SentimentIntensityAnalyzer\n",
    "from tqdm.notebook import tqdm\n",
    "\n",
    "sia = SentimentIntensityAnalyzer()"
   ]
  },
  {
   "cell_type": "code",
   "execution_count": 6,
   "id": "603aeaeb",
   "metadata": {},
   "outputs": [
    {
     "data": {
      "text/plain": [
       "{'neg': 0.0, 'neu': 0.318, 'pos': 0.682, 'compound': 0.6468}"
      ]
     },
     "execution_count": 6,
     "metadata": {},
     "output_type": "execute_result"
    }
   ],
   "source": [
    "sia.polarity_scores('I am so happy!')"
   ]
  },
  {
   "cell_type": "code",
   "execution_count": 7,
   "id": "535bfa5c",
   "metadata": {},
   "outputs": [
    {
     "data": {
      "text/plain": [
       "{'neg': 0.451, 'neu': 0.549, 'pos': 0.0, 'compound': -0.6249}"
      ]
     },
     "execution_count": 7,
     "metadata": {},
     "output_type": "execute_result"
    }
   ],
   "source": [
    "sia.polarity_scores('This is the worst thing ever.')"
   ]
  },
  {
   "cell_type": "code",
   "execution_count": 8,
   "id": "3727587f",
   "metadata": {},
   "outputs": [],
   "source": [
    "example = df['text'][50]"
   ]
  },
  {
   "cell_type": "code",
   "execution_count": 9,
   "id": "7488a37d",
   "metadata": {},
   "outputs": [
    {
     "data": {
      "text/plain": [
       "{'neg': 0.088, 'neu': 0.771, 'pos': 0.142, 'compound': 0.9256}"
      ]
     },
     "execution_count": 9,
     "metadata": {},
     "output_type": "execute_result"
    }
   ],
   "source": [
    "sia.polarity_scores(example)"
   ]
  },
  {
   "cell_type": "code",
   "execution_count": 10,
   "id": "d491eb18",
   "metadata": {},
   "outputs": [
    {
     "data": {
      "text/plain": [
       "['I',\n",
       " 'saw',\n",
       " 'this',\n",
       " 'film',\n",
       " 'opening',\n",
       " 'weekend',\n",
       " 'in',\n",
       " 'Australia',\n",
       " ',',\n",
       " 'anticipating']"
      ]
     },
     "execution_count": 10,
     "metadata": {},
     "output_type": "execute_result"
    }
   ],
   "source": [
    "tokens = nltk.word_tokenize(example)\n",
    "tokens[:10]"
   ]
  },
  {
   "cell_type": "code",
   "execution_count": 11,
   "id": "0acc8f98",
   "metadata": {},
   "outputs": [
    {
     "data": {
      "application/vnd.jupyter.widget-view+json": {
       "model_id": "8404f8f750a8481da8893e8de51dc189",
       "version_major": 2,
       "version_minor": 0
      },
      "text/plain": [
       "  0%|          | 0/25000 [00:00<?, ?it/s]"
      ]
     },
     "metadata": {},
     "output_type": "display_data"
    }
   ],
   "source": [
    "res = {}\n",
    "for i, row in tqdm(df.iterrows(), total=len(df)):\n",
    "    text = row['text']\n",
    "    myid = row['label']\n",
    "    res[myid] = sia.polarity_scores(text)"
   ]
  },
  {
   "cell_type": "code",
   "execution_count": 12,
   "id": "9301dda5",
   "metadata": {},
   "outputs": [],
   "source": [
    "vaders = pd.DataFrame(res).T\n",
    "vaders = vaders.reset_index().rename(columns={'index': 'label'})\n",
    "vaders = vaders.merge(df, how='left')"
   ]
  },
  {
   "cell_type": "markdown",
   "id": "174a6735",
   "metadata": {},
   "source": [
    "### Sentiment Score and Metadata"
   ]
  },
  {
   "cell_type": "code",
   "execution_count": 13,
   "id": "bfcf5158",
   "metadata": {},
   "outputs": [
    {
     "data": {
      "text/html": [
       "<div>\n",
       "<style scoped>\n",
       "    .dataframe tbody tr th:only-of-type {\n",
       "        vertical-align: middle;\n",
       "    }\n",
       "\n",
       "    .dataframe tbody tr th {\n",
       "        vertical-align: top;\n",
       "    }\n",
       "\n",
       "    .dataframe thead th {\n",
       "        text-align: right;\n",
       "    }\n",
       "</style>\n",
       "<table border=\"1\" class=\"dataframe\">\n",
       "  <thead>\n",
       "    <tr style=\"text-align: right;\">\n",
       "      <th></th>\n",
       "      <th>label</th>\n",
       "      <th>neg</th>\n",
       "      <th>neu</th>\n",
       "      <th>pos</th>\n",
       "      <th>compound</th>\n",
       "      <th>text</th>\n",
       "    </tr>\n",
       "  </thead>\n",
       "  <tbody>\n",
       "    <tr>\n",
       "      <th>0</th>\n",
       "      <td>0</td>\n",
       "      <td>0.115</td>\n",
       "      <td>0.744</td>\n",
       "      <td>0.142</td>\n",
       "      <td>0.9257</td>\n",
       "      <td>I rented I AM CURIOUS-YELLOW from my video sto...</td>\n",
       "    </tr>\n",
       "    <tr>\n",
       "      <th>1</th>\n",
       "      <td>0</td>\n",
       "      <td>0.115</td>\n",
       "      <td>0.744</td>\n",
       "      <td>0.142</td>\n",
       "      <td>0.9257</td>\n",
       "      <td>\"I Am Curious: Yellow\" is a risible and preten...</td>\n",
       "    </tr>\n",
       "    <tr>\n",
       "      <th>2</th>\n",
       "      <td>0</td>\n",
       "      <td>0.115</td>\n",
       "      <td>0.744</td>\n",
       "      <td>0.142</td>\n",
       "      <td>0.9257</td>\n",
       "      <td>If only to avoid making this type of film in t...</td>\n",
       "    </tr>\n",
       "    <tr>\n",
       "      <th>3</th>\n",
       "      <td>0</td>\n",
       "      <td>0.115</td>\n",
       "      <td>0.744</td>\n",
       "      <td>0.142</td>\n",
       "      <td>0.9257</td>\n",
       "      <td>This film was probably inspired by Godard's Ma...</td>\n",
       "    </tr>\n",
       "    <tr>\n",
       "      <th>4</th>\n",
       "      <td>0</td>\n",
       "      <td>0.115</td>\n",
       "      <td>0.744</td>\n",
       "      <td>0.142</td>\n",
       "      <td>0.9257</td>\n",
       "      <td>Oh, brother...after hearing about this ridicul...</td>\n",
       "    </tr>\n",
       "  </tbody>\n",
       "</table>\n",
       "</div>"
      ],
      "text/plain": [
       "   label    neg    neu    pos  compound  \\\n",
       "0      0  0.115  0.744  0.142    0.9257   \n",
       "1      0  0.115  0.744  0.142    0.9257   \n",
       "2      0  0.115  0.744  0.142    0.9257   \n",
       "3      0  0.115  0.744  0.142    0.9257   \n",
       "4      0  0.115  0.744  0.142    0.9257   \n",
       "\n",
       "                                                text  \n",
       "0  I rented I AM CURIOUS-YELLOW from my video sto...  \n",
       "1  \"I Am Curious: Yellow\" is a risible and preten...  \n",
       "2  If only to avoid making this type of film in t...  \n",
       "3  This film was probably inspired by Godard's Ma...  \n",
       "4  Oh, brother...after hearing about this ridicul...  "
      ]
     },
     "execution_count": 13,
     "metadata": {},
     "output_type": "execute_result"
    }
   ],
   "source": [
    "vaders.head()"
   ]
  },
  {
   "cell_type": "markdown",
   "id": "1d1e133b",
   "metadata": {},
   "source": [
    "# VADER Sentiment Analysis"
   ]
  },
  {
   "cell_type": "markdown",
   "id": "0d281c39",
   "metadata": {},
   "source": [
    "### Install Vader Module"
   ]
  },
  {
   "cell_type": "code",
   "execution_count": 14,
   "id": "bb14b614",
   "metadata": {
    "scrolled": true
   },
   "outputs": [
    {
     "name": "stdout",
     "output_type": "stream",
     "text": [
      "Requirement already satisfied: vaderSentiment in c:\\users\\kenn\\anaconda3\\lib\\site-packages (3.3.2)Note: you may need to restart the kernel to use updated packages.\n",
      "\n",
      "Requirement already satisfied: requests in c:\\users\\kenn\\anaconda3\\lib\\site-packages (from vaderSentiment) (2.31.0)\n",
      "Requirement already satisfied: charset-normalizer<4,>=2 in c:\\users\\kenn\\anaconda3\\lib\\site-packages (from requests->vaderSentiment) (2.0.4)\n",
      "Requirement already satisfied: idna<4,>=2.5 in c:\\users\\kenn\\anaconda3\\lib\\site-packages (from requests->vaderSentiment) (3.4)\n",
      "Requirement already satisfied: urllib3<3,>=1.21.1 in c:\\users\\kenn\\anaconda3\\lib\\site-packages (from requests->vaderSentiment) (1.26.16)\n",
      "Requirement already satisfied: certifi>=2017.4.17 in c:\\users\\kenn\\anaconda3\\lib\\site-packages (from requests->vaderSentiment) (2023.7.22)\n"
     ]
    }
   ],
   "source": [
    "pip install vaderSentiment"
   ]
  },
  {
   "cell_type": "markdown",
   "id": "2386c4fc",
   "metadata": {},
   "source": [
    "### Import datas"
   ]
  },
  {
   "cell_type": "code",
   "execution_count": 15,
   "id": "ef64e552",
   "metadata": {},
   "outputs": [],
   "source": [
    "import os\n",
    "import re\n",
    "import math\n",
    "import string\n",
    "import codecs\n",
    "import json\n",
    "from itertools import product\n",
    "from inspect import getsourcefile\n",
    "from io import open\n"
   ]
  },
  {
   "cell_type": "markdown",
   "id": "ec557994",
   "metadata": {},
   "source": [
    "### Introduce Constants"
   ]
  },
  {
   "cell_type": "markdown",
   "id": "cad7699d",
   "metadata": {},
   "source": [
    "The following constants are introduced to use the empirically derived mean sentiment intensity rating increase for booster words"
   ]
  },
  {
   "cell_type": "code",
   "execution_count": 16,
   "id": "2f6e514b",
   "metadata": {},
   "outputs": [],
   "source": [
    "##Constants##\n",
    "B_INCR = 0.293\n",
    "B_DECR = -0.293"
   ]
  },
  {
   "cell_type": "code",
   "execution_count": 17,
   "id": "6dd24604",
   "metadata": {},
   "outputs": [],
   "source": [
    "C_INCR = 0.733\n",
    "N_SCALAR = -0.74"
   ]
  },
  {
   "cell_type": "markdown",
   "id": "ad301267",
   "metadata": {},
   "source": [
    "### Negate words"
   ]
  },
  {
   "cell_type": "markdown",
   "id": "64932133",
   "metadata": {},
   "source": [
    "Following are some negated words. We have organized them into a list"
   ]
  },
  {
   "cell_type": "code",
   "execution_count": 18,
   "id": "cd5383d1",
   "metadata": {},
   "outputs": [],
   "source": [
    "NEGATE = \\\n",
    "    [\"aint\", \"arent\", \"cannot\", \"cant\", \"couldnt\", \"darent\", \"didnt\", \"doesnt\",\n",
    "     \"ain't\", \"aren't\", \"can't\", \"couldn't\", \"daren't\", \"didn't\", \"doesn't\",\n",
    "     \"dont\", \"hadnt\", \"hasnt\", \"havent\", \"isnt\", \"mightnt\", \"mustnt\", \"neither\",\n",
    "     \"don't\", \"hadn't\", \"hasn't\", \"haven't\", \"isn't\", \"mightn't\", \"mustn't\",\n",
    "     \"neednt\", \"needn't\", \"never\", \"none\", \"nope\", \"nor\", \"not\", \"nothing\", \"nowhere\",\n",
    "     \"oughtnt\", \"shant\", \"shouldnt\", \"uhuh\", \"wasnt\", \"werent\",\n",
    "     \"oughtn't\", \"shan't\", \"shouldn't\", \"uh-uh\", \"wasn't\", \"weren't\",\n",
    "     \"without\", \"wont\", \"wouldnt\", \"won't\", \"wouldn't\", \"rarely\", \"seldom\", \"despite\"]\n"
   ]
  },
  {
   "cell_type": "code",
   "execution_count": 19,
   "id": "d17e73d2",
   "metadata": {},
   "outputs": [],
   "source": [
    "BOOSTER_DICT = \\\n",
    "    {\"absolutely\": B_INCR, \"amazingly\": B_INCR, \"awfully\": B_INCR,\n",
    "     \"completely\": B_INCR, \"considerable\": B_INCR, \"considerably\": B_INCR,\n",
    "     \"decidedly\": B_INCR, \"deeply\": B_INCR, \"effing\": B_INCR, \"enormous\": B_INCR, \"enormously\": B_INCR,\n",
    "     \"entirely\": B_INCR, \"especially\": B_INCR, \"exceptional\": B_INCR, \"exceptionally\": B_INCR,\n",
    "     \"extreme\": B_INCR, \"extremely\": B_INCR,\n",
    "     \"fabulously\": B_INCR, \"flipping\": B_INCR, \"flippin\": B_INCR, \"frackin\": B_INCR, \"fracking\": B_INCR,\n",
    "     \"fricking\": B_INCR, \"frickin\": B_INCR, \"frigging\": B_INCR, \"friggin\": B_INCR, \"fully\": B_INCR,\n",
    "     \"fuckin\": B_INCR, \"fucking\": B_INCR, \"fuggin\": B_INCR, \"fugging\": B_INCR,\n",
    "     \"greatly\": B_INCR, \"hella\": B_INCR, \"highly\": B_INCR, \"hugely\": B_INCR,\n",
    "     \"incredible\": B_INCR, \"incredibly\": B_INCR, \"intensely\": B_INCR,\n",
    "     \"major\": B_INCR, \"majorly\": B_INCR, \"more\": B_INCR, \"most\": B_INCR, \"particularly\": B_INCR,\n",
    "     \"purely\": B_INCR, \"quite\": B_INCR, \"really\": B_INCR, \"remarkably\": B_INCR,\n",
    "     \"so\": B_INCR, \"substantially\": B_INCR,\n",
    "     \"thoroughly\": B_INCR, \"total\": B_INCR, \"totally\": B_INCR, \"tremendous\": B_INCR, \"tremendously\": B_INCR,\n",
    "     \"uber\": B_INCR, \"unbelievably\": B_INCR, \"unusually\": B_INCR, \"utter\": B_INCR, \"utterly\": B_INCR,\n",
    "     \"very\": B_INCR,\n",
    "     \"almost\": B_DECR, \"barely\": B_DECR, \"hardly\": B_DECR, \"just enough\": B_DECR,\n",
    "     \"kind of\": B_DECR, \"kinda\": B_DECR, \"kindof\": B_DECR, \"kind-of\": B_DECR,\n",
    "     \"less\": B_DECR, \"little\": B_DECR, \"marginal\": B_DECR, \"marginally\": B_DECR,\n",
    "     \"occasional\": B_DECR, \"occasionally\": B_DECR, \"partly\": B_DECR,\n",
    "     \"scarce\": B_DECR, \"scarcely\": B_DECR, \"slight\": B_DECR, \"slightly\": B_DECR, \"somewhat\": B_DECR,\n",
    "     \"sort of\": B_DECR, \"sorta\": B_DECR, \"sortof\": B_DECR, \"sort-of\": B_DECR}\n"
   ]
  },
  {
   "cell_type": "markdown",
   "id": "65c39cb2",
   "metadata": {},
   "source": [
    "### Set up idioms "
   ]
  },
  {
   "cell_type": "code",
   "execution_count": 20,
   "id": "68fa1088",
   "metadata": {},
   "outputs": [],
   "source": [
    "SENTIMENT_LADEN_IDIOMS = {\"cut the mustard\": 2, \"hand to mouth\": -2,\n",
    "                          \"back handed\": -2, \"blow smoke\": -2, \"blowing smoke\": -2,\n",
    "                          \"upper hand\": 1, \"break a leg\": 2,\n",
    "                          \"cooking with gas\": 2, \"in the black\": 2, \"in the red\": -2,\n",
    "                          \"on the ball\": 2, \"under the weather\": -2}"
   ]
  },
  {
   "cell_type": "markdown",
   "id": "bd8aee78",
   "metadata": {},
   "source": [
    "### Special cases"
   ]
  },
  {
   "cell_type": "code",
   "execution_count": 21,
   "id": "43c8511e",
   "metadata": {},
   "outputs": [],
   "source": [
    "SPECIAL_CASES = {\"the shit\": 3, \"the bomb\": 3, \"bad ass\": 1.5, \"badass\": 1.5, \"bus stop\": 0.0,\n",
    "                 \"yeah right\": -2, \"kiss of death\": -1.5, \"to die for\": 3,\n",
    "                 \"beating heart\": 3.1, \"broken heart\": -2.9 }\n"
   ]
  },
  {
   "cell_type": "markdown",
   "id": "a284b564",
   "metadata": {},
   "source": [
    "### Determine negated words"
   ]
  },
  {
   "cell_type": "markdown",
   "id": "a48075d3",
   "metadata": {},
   "source": [
    "The following code block determines if the input contains negation words"
   ]
  },
  {
   "cell_type": "code",
   "execution_count": 22,
   "id": "cd2f63ee",
   "metadata": {},
   "outputs": [],
   "source": [
    "def negated(input_words, include_nt=True):\n",
    "    input_words = [str(w).lower() for w in input_words]\n",
    "    neg_words = []\n",
    "    neg_words.extend(NEGATE)\n",
    "    for word in neg_words:\n",
    "        if word in input_words:\n",
    "            return True\n",
    "    if include_nt:\n",
    "        for word in input_words:\n",
    "            if \"n't\" in word:\n",
    "                return True\n",
    "    '''if \"least\" in input_words:\n",
    "        i = input_words.index(\"least\")\n",
    "        if i > 0 and input_words[i - 1] != \"at\":\n",
    "            return True'''\n",
    "    return False"
   ]
  },
  {
   "cell_type": "markdown",
   "id": "ae206513",
   "metadata": {},
   "source": [
    "### Normalize the score"
   ]
  },
  {
   "cell_type": "markdown",
   "id": "9ad9d536",
   "metadata": {},
   "source": [
    "The following code block nomalize the wcore to be between -1 and 1 using an alpha that approximates the max expected value"
   ]
  },
  {
   "cell_type": "code",
   "execution_count": 23,
   "id": "bdbddb57",
   "metadata": {},
   "outputs": [],
   "source": [
    "def normalize(score, alpha=15):\n",
    "    norm_score = score / math.sqrt((score * score) + alpha)\n",
    "    if norm_score < -1.0:\n",
    "        return -1.0\n",
    "    elif norm_score > 1.0:\n",
    "        return 1.0\n",
    "    else:\n",
    "        return norm_score"
   ]
  },
  {
   "cell_type": "markdown",
   "id": "9b5dd042",
   "metadata": {},
   "source": [
    "### Check for all caps"
   ]
  },
  {
   "cell_type": "markdown",
   "id": "e2a3b39e",
   "metadata": {},
   "source": [
    "The following code block check if some words in the input are all caps and if the preceding words increase, decrease or negate the valence"
   ]
  },
  {
   "cell_type": "code",
   "execution_count": 24,
   "id": "e2c731d8",
   "metadata": {},
   "outputs": [],
   "source": [
    "def allcap_differential(words):\n",
    "    is_different = False\n",
    "    allcap_words = 0\n",
    "    for word in words:\n",
    "        if word.isupper():\n",
    "            allcap_words += 1\n",
    "    cap_differential = len(words) - allcap_words\n",
    "    if 0 < cap_differential < len(words):\n",
    "        is_different = True\n",
    "    return is_different\n",
    "\n",
    "\n",
    "def scalar_inc_dec(word, valence, is_cap_diff):\n",
    "    scalar = 0.0\n",
    "    word_lower = word.lower()\n",
    "    if word_lower in BOOSTER_DICT:\n",
    "        scalar = BOOSTER_DICT[word_lower]\n",
    "        if valence < 0:\n",
    "            scalar *= -1\n",
    "        # check if booster/dampener word is in ALLCAPS (while others aren't)\n",
    "        if word.isupper() and is_cap_diff:\n",
    "            if valence > 0:\n",
    "                scalar += C_INCR\n",
    "            else:\n",
    "                scalar -= C_INCR\n",
    "    return scalar"
   ]
  },
  {
   "cell_type": "markdown",
   "id": "7f05af53",
   "metadata": {},
   "source": [
    "### Identify sentiment related properties"
   ]
  },
  {
   "cell_type": "markdown",
   "id": "59f3f18e",
   "metadata": {},
   "source": [
    "This following code block identifies the sentiment relevant string level properties of input text. It also removes all trailing and leading puncuation if the resulting string has two or fewer characters which is likely an emoticon."
   ]
  },
  {
   "cell_type": "code",
   "execution_count": 25,
   "id": "a56ae3a9",
   "metadata": {},
   "outputs": [],
   "source": [
    "class SentiText(object):\n",
    "\n",
    "    def __init__(self, text):\n",
    "        if not isinstance(text, str):\n",
    "            text = str(text).encode('utf-8')\n",
    "        self.text = text\n",
    "        self.words_and_emoticons = self._words_and_emoticons()\n",
    "        # doesn't separate words from\\\n",
    "        # adjacent punctuation (keeps emoticons & contractions)\n",
    "        self.is_cap_diff = allcap_differential(self.words_and_emoticons)\n",
    "\n",
    "    @staticmethod\n",
    "    def _strip_punc_if_word(token):\n",
    "        stripped = token.strip(string.punctuation)\n",
    "        if len(stripped) <= 2:\n",
    "            return token\n",
    "        return stripped\n",
    "\n",
    "    def _words_and_emoticons(self):\n",
    "        wes = self.text.split()\n",
    "        stripped = list(map(self._strip_punc_if_word, wes))\n",
    "        return stripped"
   ]
  },
  {
   "cell_type": "markdown",
   "id": "7d506b0c",
   "metadata": {},
   "source": [
    "### Sentiment Analysis"
   ]
  },
  {
   "cell_type": "markdown",
   "id": "55171a89",
   "metadata": {},
   "source": [
    "This is the sentiment intensity analyzer which gives a sentiment intensity score to sentences. It also convert lexicon file to a dictionary which then return a float for sentiment strength based on the input text. Positive values are positive valence, negative value are negative valence."
   ]
  },
  {
   "cell_type": "code",
   "execution_count": 26,
   "id": "f6bd9e22",
   "metadata": {},
   "outputs": [],
   "source": [
    "class SentimentIntensityAnalyzer(object):\n",
    "    \"\"\"\n",
    "    Give a sentiment intensity score to sentences.\n",
    "    \"\"\"\n",
    "\n",
    "    def __init__(self, lexicon_file=\"vader_lexicon.txt\", emoji_lexicon=\"emoji_utf8_lexicon.txt\"):\n",
    "        _this_module_file_path_ = os.path.abspath(getsourcefile(lambda: 0))\n",
    "        lexicon_full_filepath = os.path.join(os.path.dirname(_this_module_file_path_), lexicon_file)\n",
    "        with codecs.open(lexicon_full_filepath, encoding='utf-8') as f:\n",
    "            self.lexicon_full_filepath = f.read()\n",
    "        self.lexicon = self.make_lex_dict()\n",
    "\n",
    "        emoji_full_filepath = os.path.join(os.path.dirname(_this_module_file_path_), emoji_lexicon)\n",
    "        with codecs.open(emoji_full_filepath, encoding='utf-8') as f:\n",
    "            self.emoji_full_filepath = f.read()\n",
    "        self.emojis = self.make_emoji_dict()\n",
    "\n",
    "    def make_lex_dict(self):\n",
    "        lex_dict = {}\n",
    "        for line in self.lexicon_full_filepath.rstrip('\\n').split('\\n'):\n",
    "            if not line:\n",
    "                continue\n",
    "            (word, measure) = line.strip().split('\\t')[0:2]\n",
    "            lex_dict[word] = float(measure)\n",
    "        return lex_dict\n",
    "\n",
    "    def make_emoji_dict(self):\n",
    "        emoji_dict = {}\n",
    "        for line in self.emoji_full_filepath.rstrip('\\n').split('\\n'):\n",
    "            (emoji, description) = line.strip().split('\\t')[0:2]\n",
    "            emoji_dict[emoji] = description\n",
    "        return emoji_dict\n",
    "\n",
    "    def polarity_scores(self, text):\n",
    "        # convert emojis to their textual descriptions\n",
    "        text_no_emoji = \"\"\n",
    "        prev_space = True\n",
    "        for chr in text:\n",
    "            if chr in self.emojis:\n",
    "                # get the textual description\n",
    "                description = self.emojis[chr]\n",
    "                if not prev_space:\n",
    "                    text_no_emoji += ' '\n",
    "                text_no_emoji += description\n",
    "                prev_space = False\n",
    "            else:\n",
    "                text_no_emoji += chr\n",
    "                prev_space = chr == ' '\n",
    "        text = text_no_emoji.strip()\n",
    "\n",
    "        sentitext = SentiText(text)\n",
    "\n",
    "        sentiments = []\n",
    "        words_and_emoticons = sentitext.words_and_emoticons\n",
    "        for i, item in enumerate(words_and_emoticons):\n",
    "            valence = 0\n",
    "            # check for vader_lexicon words that may be used as modifiers or negations\n",
    "            if item.lower() in BOOSTER_DICT:\n",
    "                sentiments.append(valence)\n",
    "                continue\n",
    "            if (i < len(words_and_emoticons) - 1 and item.lower() == \"kind\" and\n",
    "                    words_and_emoticons[i + 1].lower() == \"of\"):\n",
    "                sentiments.append(valence)\n",
    "                continue\n",
    "\n",
    "            sentiments = self.sentiment_valence(valence, sentitext, item, i, sentiments)\n",
    "\n",
    "        sentiments = self._but_check(words_and_emoticons, sentiments)\n",
    "\n",
    "        valence_dict = self.score_valence(sentiments, text)\n",
    "\n",
    "        return valence_dict"
   ]
  },
  {
   "cell_type": "markdown",
   "id": "82eb2ae8",
   "metadata": {},
   "source": [
    "This following code block gets the sentiment valence which then checks for \"no\" as negation "
   ]
  },
  {
   "cell_type": "code",
   "execution_count": 27,
   "id": "9d22e519",
   "metadata": {},
   "outputs": [],
   "source": [
    "  def sentiment_valence(self, valence, sentitext, item, i, sentiments):\n",
    "        is_cap_diff = sentitext.is_cap_diff\n",
    "        words_and_emoticons = sentitext.words_and_emoticons\n",
    "        item_lowercase = item.lower()\n",
    "        if item_lowercase in self.lexicon:\n",
    "            # get the sentiment valence \n",
    "            valence = self.lexicon[item_lowercase]\n",
    "            if item_lowercase == \"no\" and i != len(words_and_emoticons)-1 and words_and_emoticons[i + 1].lower() in self.lexicon:\n",
    "                # don't use valence of \"no\" as a lexicon item. Instead set it's valence to 0.0 and negate the next item\n",
    "                valence = 0.0\n",
    "            if (i > 0 and words_and_emoticons[i - 1].lower() == \"no\") \\\n",
    "               or (i > 1 and words_and_emoticons[i - 2].lower() == \"no\") \\\n",
    "               or (i > 2 and words_and_emoticons[i - 3].lower() == \"no\" and words_and_emoticons[i - 1].lower() in [\"or\", \"nor\"] ):\n",
    "                valence = self.lexicon[item_lowercase] * N_SCALAR\n",
    "\n",
    "            # check if sentiment laden word is in ALL CAPS (while others aren't)\n",
    "            if item.isupper() and is_cap_diff:\n",
    "                if valence > 0:\n",
    "                    valence += C_INCR\n",
    "                else:\n",
    "                    valence -= C_INCR\n",
    "\n",
    "            for start_i in range(0, 3):\n",
    "                # dampen the scalar modifier of preceding words and emoticons\n",
    "                # (excluding the ones that immediately preceed the item) based\n",
    "                # on their distance from the current item.\n",
    "                if i > start_i and words_and_emoticons[i - (start_i + 1)].lower() not in self.lexicon:\n",
    "                    s = scalar_inc_dec(words_and_emoticons[i - (start_i + 1)], valence, is_cap_diff)\n",
    "                    if start_i == 1 and s != 0:\n",
    "                        s = s * 0.95\n",
    "                    if start_i == 2 and s != 0:\n",
    "                        s = s * 0.9\n",
    "                    valence = valence + s\n",
    "                    valence = self._negation_check(valence, words_and_emoticons, start_i, i)\n",
    "                    if start_i == 2:\n",
    "                        valence = self._special_idioms_check(valence, words_and_emoticons, i)\n",
    "\n",
    "            valence = self._least_check(valence, words_and_emoticons, i)\n",
    "        sentiments.append(valence)\n",
    "        return sentiments"
   ]
  },
  {
   "cell_type": "markdown",
   "id": "8cf983fa",
   "metadata": {},
   "source": [
    "### Check for Negation"
   ]
  },
  {
   "cell_type": "markdown",
   "id": "94147a37",
   "metadata": {},
   "source": [
    "This following code block checks for negation case using \"least\". "
   ]
  },
  {
   "cell_type": "code",
   "execution_count": 28,
   "id": "b3f900de",
   "metadata": {},
   "outputs": [],
   "source": [
    "    def _least_check(self, valence, words_and_emoticons, i):\n",
    "        if i > 1 and words_and_emoticons[i - 1].lower() not in self.lexicon \\\n",
    "                and words_and_emoticons[i - 1].lower() == \"least\":\n",
    "            if words_and_emoticons[i - 2].lower() != \"at\" and words_and_emoticons[i - 2].lower() != \"very\":\n",
    "                valence = valence * N_SCALAR\n",
    "        elif i > 0 and words_and_emoticons[i - 1].lower() not in self.lexicon \\\n",
    "                and words_and_emoticons[i - 1].lower() == \"least\":\n",
    "            valence = valence * N_SCALAR\n",
    "        return valence"
   ]
  },
  {
   "cell_type": "markdown",
   "id": "0c3c5558",
   "metadata": {},
   "source": [
    "### Check for modification in sentiment"
   ]
  },
  {
   "cell_type": "markdown",
   "id": "d8a92e63",
   "metadata": {},
   "source": [
    "The following code block checks for modification in sentiment due to contractive conjunction 'but'."
   ]
  },
  {
   "cell_type": "code",
   "execution_count": 29,
   "id": "628caf13",
   "metadata": {},
   "outputs": [],
   "source": [
    "def _but_check(words_and_emoticons, sentiments):\n",
    "        words_and_emoticons_lower = [str(w).lower() for w in words_and_emoticons]\n",
    "        if 'but' in words_and_emoticons_lower:\n",
    "            bi = words_and_emoticons_lower.index('but')\n",
    "            for sentiment in sentiments:\n",
    "                si = sentiments.index(sentiment)\n",
    "                if si < bi:\n",
    "                    sentiments.pop(si)\n",
    "                    sentiments.insert(si, sentiment * 0.5)\n",
    "                elif si > bi:\n",
    "                    sentiments.pop(si)\n",
    "                    sentiments.insert(si, sentiment * 1.5)\n",
    "        return sentiments"
   ]
  },
  {
   "cell_type": "markdown",
   "id": "1017acd0",
   "metadata": {},
   "source": [
    "The following code block checks for special idioms and words such as 'kind of' and 'sort of'"
   ]
  },
  {
   "cell_type": "code",
   "execution_count": 30,
   "id": "02dc9ba5",
   "metadata": {},
   "outputs": [],
   "source": [
    "def _special_idioms_check(valence, words_and_emoticons, i):\n",
    "        words_and_emoticons_lower = [str(w).lower() for w in words_and_emoticons]\n",
    "        onezero = \"{0} {1}\".format(words_and_emoticons_lower[i - 1], words_and_emoticons_lower[i])\n",
    "\n",
    "        twoonezero = \"{0} {1} {2}\".format(words_and_emoticons_lower[i - 2],\n",
    "                                          words_and_emoticons_lower[i - 1], words_and_emoticons_lower[i])\n",
    "\n",
    "        twoone = \"{0} {1}\".format(words_and_emoticons_lower[i - 2], words_and_emoticons_lower[i - 1])\n",
    "\n",
    "        threetwoone = \"{0} {1} {2}\".format(words_and_emoticons_lower[i - 3],\n",
    "                                           words_and_emoticons_lower[i - 2], words_and_emoticons_lower[i - 1])\n",
    "\n",
    "        threetwo = \"{0} {1}\".format(words_and_emoticons_lower[i - 3], words_and_emoticons_lower[i - 2])\n",
    "\n",
    "        sequences = [onezero, twoonezero, twoone, threetwoone, threetwo]\n",
    "\n",
    "        for seq in sequences:\n",
    "            if seq in SPECIAL_CASES:\n",
    "                valence = SPECIAL_CASES[seq]\n",
    "                break\n",
    "\n",
    "        if len(words_and_emoticons_lower) - 1 > i:\n",
    "            zeroone = \"{0} {1}\".format(words_and_emoticons_lower[i], words_and_emoticons_lower[i + 1])\n",
    "            if zeroone in SPECIAL_CASES:\n",
    "                valence = SPECIAL_CASES[zeroone]\n",
    "        if len(words_and_emoticons_lower) - 1 > i + 1:\n",
    "            zeroonetwo = \"{0} {1} {2}\".format(words_and_emoticons_lower[i], words_and_emoticons_lower[i + 1],\n",
    "                                              words_and_emoticons_lower[i + 2])\n",
    "            if zeroonetwo in SPECIAL_CASES:\n",
    "                valence = SPECIAL_CASES[zeroonetwo]\n",
    "\n",
    "        n_grams = [threetwoone, threetwo, twoone]\n",
    "        for n_gram in n_grams:\n",
    "            if n_gram in BOOSTER_DICT:\n",
    "                valence = valence + BOOSTER_DICT[n_gram]"
   ]
  },
  {
   "cell_type": "markdown",
   "id": "72bed6ab",
   "metadata": {},
   "source": [
    "The following code block checks for sentiment laden idioms that do not contain a lexicon word"
   ]
  },
  {
   "cell_type": "code",
   "execution_count": 31,
   "id": "03489559",
   "metadata": {},
   "outputs": [],
   "source": [
    " def _sentiment_laden_idioms_check(valence, senti_text_lower):\n",
    "        idioms_valences = []\n",
    "        for idiom in SENTIMENT_LADEN_IDIOMS:\n",
    "            if idiom in senti_text_lower:\n",
    "                print(idiom, senti_text_lower)\n",
    "                valence = SENTIMENT_LADEN_IDIOMS[idiom]\n",
    "                idioms_valences.append(valence)\n",
    "        if len(idioms_valences) > 0:\n",
    "            valence = sum(idioms_valences) / float(len(idioms_valences))\n",
    "        return valence\n"
   ]
  },
  {
   "cell_type": "code",
   "execution_count": 32,
   "id": "fc28ec22",
   "metadata": {},
   "outputs": [],
   "source": [
    "def _negation_check(valence, words_and_emoticons, start_i, i):\n",
    "        words_and_emoticons_lower = [str(w).lower() for w in words_and_emoticons]\n",
    "        if start_i == 0:\n",
    "            if negated([words_and_emoticons_lower[i - (start_i + 1)]]):  # 1 word preceding lexicon word (w/o stopwords)\n",
    "                valence = valence * N_SCALAR\n",
    "        if start_i == 1:\n",
    "            if words_and_emoticons_lower[i - 2] == \"never\" and \\\n",
    "                    (words_and_emoticons_lower[i - 1] == \"so\" or\n",
    "                     words_and_emoticons_lower[i - 1] == \"this\"):\n",
    "                valence = valence * 1.25\n",
    "            elif words_and_emoticons_lower[i - 2] == \"without\" and \\\n",
    "                    words_and_emoticons_lower[i - 1] == \"doubt\":\n",
    "                valence = valence\n",
    "            elif negated([words_and_emoticons_lower[i - (start_i + 1)]]):  # 2 words preceding the lexicon word position\n",
    "                valence = valence * N_SCALAR\n",
    "        if start_i == 2:\n",
    "            if words_and_emoticons_lower[i - 3] == \"never\" and \\\n",
    "                    (words_and_emoticons_lower[i - 2] == \"so\" or words_and_emoticons_lower[i - 2] == \"this\") or \\\n",
    "                    (words_and_emoticons_lower[i - 1] == \"so\" or words_and_emoticons_lower[i - 1] == \"this\"):\n",
    "                valence = valence * 1.25\n",
    "            elif words_and_emoticons_lower[i - 3] == \"without\" and \\\n",
    "                    (words_and_emoticons_lower[i - 2] == \"doubt\" or words_and_emoticons_lower[i - 1] == \"doubt\"):\n",
    "                valence = valence\n",
    "            elif negated([words_and_emoticons_lower[i - (start_i + 1)]]):  # 3 words preceding the lexicon word position\n",
    "                valence = valence * N_SCALAR\n",
    "        return valence"
   ]
  },
  {
   "cell_type": "code",
   "execution_count": 33,
   "id": "f7d7b5f7",
   "metadata": {},
   "outputs": [],
   "source": [
    "def _punctuation_emphasis(self, text):\n",
    "        # add emphasis from exclamation points and question marks\n",
    "        ep_amplifier = self._amplify_ep(text)\n",
    "        qm_amplifier = self._amplify_qm(text)\n",
    "        punct_emph_amplifier = ep_amplifier + qm_amplifier\n",
    "        return punct_emph_amplifier\n",
    "\n",
    "@staticmethod\n",
    "def _amplify_ep(text):\n",
    "        # check for added emphasis resulting from exclamation points (up to 4 of them)\n",
    "    ep_count = text.count(\"!\")\n",
    "    if ep_count > 4:\n",
    "        ep_count = 4\n",
    "        # (empirically derived mean sentiment intensity rating increase for\n",
    "        # exclamation points)\n",
    "    ep_amplifier = ep_count * 0.292\n",
    "    return ep_amplifier\n",
    "\n",
    "@staticmethod\n",
    "def _amplify_qm(text):\n",
    "    # check for added emphasis resulting from question marks (2 or 3+)\n",
    "    qm_count = text.count(\"?\")\n",
    "    qm_amplifier = 0\n",
    "    if qm_count > 1:\n",
    "        if qm_count <= 3:\n",
    "            # (empirically derived mean sentiment intensity rating increase for\n",
    "            # question marks)\n",
    "            qm_amplifier = qm_count * 0.18\n",
    "    else:\n",
    "        qm_amplifier = 0.96\n",
    "    return qm_amplifier"
   ]
  },
  {
   "cell_type": "code",
   "execution_count": 34,
   "id": "a5f7b69e",
   "metadata": {},
   "outputs": [],
   "source": [
    "def _sift_sentiment_scores(sentiments):\n",
    "        # want separate positive versus negative sentiment scores\n",
    "        pos_sum = 0.0\n",
    "        neg_sum = 0.0\n",
    "        neu_count = 0\n",
    "        for sentiment_score in sentiments:\n",
    "            if sentiment_score > 0:\n",
    "                pos_sum += (float(sentiment_score) + 1)  # compensates for neutral words that are counted as 1\n",
    "            if sentiment_score < 0:\n",
    "                neg_sum += (float(sentiment_score) - 1)  # when used with math.fabs(), compensates for neutrals\n",
    "            if sentiment_score == 0:\n",
    "                neu_count += 1\n",
    "        return pos_sum, neg_sum, neu_count\n",
    "\n",
    "def score_valence(self, sentiments, text):\n",
    "    if sentiments:\n",
    "        sum_s = float(sum(sentiments))\n",
    "        # compute and add emphasis from punctuation in text\n",
    "        punct_emph_amplifier = self._punctuation_emphasis(text)\n",
    "        if sum_s > 0:\n",
    "            sum_s += punct_emph_amplifier\n",
    "        elif sum_s < 0:\n",
    "            sum_s -= punct_emph_amplifier\n",
    "\n",
    "            compound = normalize(sum_s)\n",
    "            # discriminate between positive, negative and neutral sentiment scores\n",
    "            pos_sum, neg_sum, neu_count = self._sift_sentiment_scores(sentiments)\n",
    "\n",
    "        if pos_sum > math.fabs(neg_sum):\n",
    "                pos_sum += punct_emph_amplifier\n",
    "        elif pos_sum < math.fabs(neg_sum):\n",
    "                neg_sum -= punct_emph_amplifier\n",
    "                \n",
    "                total = pos_sum + math.fabs(neg_sum) + neu_count\n",
    "                pos = math.fabs(pos_sum / total)\n",
    "                neg = math.fabs(neg_sum / total)\n",
    "                neu = math.fabs(neu_count / total)\n",
    "\n",
    "        else:\n",
    "            compound = 0.0\n",
    "            pos = 0.0\n",
    "            neg = 0.0\n",
    "            neu = 0.0\n",
    "\n",
    "        sentiment_dict = \\\n",
    "            {\"neg\": round(neg, 3),\n",
    "             \"neu\": round(neu, 3),\n",
    "             \"pos\": round(pos, 3),\n",
    "             \"compound\": round(compound, 4)}\n",
    "\n",
    "        return sentiment_dict"
   ]
  },
  {
   "cell_type": "code",
   "execution_count": 35,
   "id": "27376a2e",
   "metadata": {},
   "outputs": [],
   "source": [
    "if __name__ == '__main__':\n",
    "    # --- examples -------\n",
    "    sentences = [\"VADER is smart, handsome, and funny.\",  # positive sentence example\n",
    "                 \"VADER is smart, handsome, and funny!\",\n",
    "                 # punctuation emphasis handled correctly (sentiment intensity adjusted)\n",
    "                 \"VADER is very smart, handsome, and funny.\",\n",
    "                 # booster words handled correctly (sentiment intensity adjusted)\n",
    "                 \"VADER is VERY SMART, handsome, and FUNNY.\",  # emphasis for ALLCAPS handled\n",
    "                 \"VADER is VERY SMART, handsome, and FUNNY!!!\",\n",
    "                 # combination of signals - VADER appropriately adjusts intensity\n",
    "                 \"VADER is VERY SMART, uber handsome, and FRIGGIN FUNNY!!!\",\n",
    "                 # booster words & punctuation make this close to ceiling for score\n",
    "                 \"VADER is not smart, handsome, nor funny.\",  # negation sentence example\n",
    "                 \"The book was good.\",  # positive sentence\n",
    "                 \"At least it isn't a horrible book.\",  # negated negative sentence with contraction\n",
    "                 \"The book was only kind of good.\",\n",
    "                 # qualified positive sentence is handled correctly (intensity adjusted)\n",
    "                 \"The plot was good, but the characters are uncompelling and the dialog is not great.\",\n",
    "                 # mixed negation sentence\n",
    "                 \"Today SUX!\",  # negative slang with capitalization emphasis\n",
    "                 \"Today only kinda sux! But I'll get by, lol\",\n",
    "                 # mixed sentiment example with slang and constrastive conjunction \"but\"\n",
    "                 \"Make sure you :) or :D today!\",  # emoticons handled\n",
    "                 \"Catch utf-8 emoji such as 💘 and 💋 and 😁\",  # emojis handled\n",
    "                 \"Not bad at all\"  # Capitalized negation\n",
    "                 ]"
   ]
  },
  {
   "cell_type": "code",
   "execution_count": 36,
   "id": "c9227610",
   "metadata": {},
   "outputs": [],
   "source": [
    "from vaderSentiment.vaderSentiment import SentimentIntensityAnalyzer\n",
    "\n",
    "analyzer = SentimentIntensityAnalyzer()"
   ]
  },
  {
   "cell_type": "code",
   "execution_count": 37,
   "id": "360bf97f",
   "metadata": {
    "scrolled": true
   },
   "outputs": [
    {
     "name": "stdout",
     "output_type": "stream",
     "text": [
      "----------------------------------------------------\n",
      " - Analyze typical example cases, including handling of:\n",
      "  -- negations\n",
      "  -- punctuation emphasis & punctuation flooding\n",
      "  -- word-shape as emphasis (capitalization difference)\n",
      "  -- degree modifiers (intensifiers such as 'very' and dampeners such as 'kind of')\n",
      "  -- slang words as modifiers such as 'uber' or 'friggin' or 'kinda'\n",
      "  -- contrastive conjunction 'but' indicating a shift in sentiment; sentiment of later text is dominant\n",
      "  -- use of contractions as negations\n",
      "  -- sentiment laden emoticons such as :) and :D\n",
      "  -- utf-8 encoded emojis such as 💘 and 💋 and 😁\n",
      "  -- sentiment laden slang words (e.g., 'sux')\n",
      "  -- sentiment laden initialisms and acronyms (for example: 'lol') \n",
      "\n",
      "VADER is smart, handsome, and funny.----------------------------- {'neg': 0.0, 'neu': 0.254, 'pos': 0.746, 'compound': 0.8316}\n",
      "----------------------------------------------------\n",
      " - About the scoring: \n",
      "  -- The 'compound' score is computed by summing the valence scores of each word in the lexicon, adjusted\n",
      "     according to the rules, and then normalized to be between -1 (most extreme negative) and +1 (most extreme positive).\n",
      "     This is the most useful metric if you want a single unidimensional measure of sentiment for a given sentence.\n",
      "     Calling it a 'normalized, weighted composite score' is accurate.\n",
      "  -- The 'pos', 'neu', and 'neg' scores are ratios for proportions of text that fall in each category (so these\n",
      "     should all add up to be 1... or close to it with float operation).  These are the most useful metrics if\n",
      "     you want multidimensional measures of sentiment for a given sentence.\n",
      "----------------------------------------------------\n",
      "VADER is smart, handsome, and funny!----------------------------- {'neg': 0.0, 'neu': 0.248, 'pos': 0.752, 'compound': 0.8439}\n",
      "----------------------------------------------------\n",
      " - About the scoring: \n",
      "  -- The 'compound' score is computed by summing the valence scores of each word in the lexicon, adjusted\n",
      "     according to the rules, and then normalized to be between -1 (most extreme negative) and +1 (most extreme positive).\n",
      "     This is the most useful metric if you want a single unidimensional measure of sentiment for a given sentence.\n",
      "     Calling it a 'normalized, weighted composite score' is accurate.\n",
      "  -- The 'pos', 'neu', and 'neg' scores are ratios for proportions of text that fall in each category (so these\n",
      "     should all add up to be 1... or close to it with float operation).  These are the most useful metrics if\n",
      "     you want multidimensional measures of sentiment for a given sentence.\n",
      "----------------------------------------------------\n",
      "VADER is very smart, handsome, and funny.------------------------ {'neg': 0.0, 'neu': 0.299, 'pos': 0.701, 'compound': 0.8545}\n",
      "----------------------------------------------------\n",
      " - About the scoring: \n",
      "  -- The 'compound' score is computed by summing the valence scores of each word in the lexicon, adjusted\n",
      "     according to the rules, and then normalized to be between -1 (most extreme negative) and +1 (most extreme positive).\n",
      "     This is the most useful metric if you want a single unidimensional measure of sentiment for a given sentence.\n",
      "     Calling it a 'normalized, weighted composite score' is accurate.\n",
      "  -- The 'pos', 'neu', and 'neg' scores are ratios for proportions of text that fall in each category (so these\n",
      "     should all add up to be 1... or close to it with float operation).  These are the most useful metrics if\n",
      "     you want multidimensional measures of sentiment for a given sentence.\n",
      "----------------------------------------------------\n",
      "VADER is VERY SMART, handsome, and FUNNY.------------------------ {'neg': 0.0, 'neu': 0.246, 'pos': 0.754, 'compound': 0.9227}\n",
      "----------------------------------------------------\n",
      " - About the scoring: \n",
      "  -- The 'compound' score is computed by summing the valence scores of each word in the lexicon, adjusted\n",
      "     according to the rules, and then normalized to be between -1 (most extreme negative) and +1 (most extreme positive).\n",
      "     This is the most useful metric if you want a single unidimensional measure of sentiment for a given sentence.\n",
      "     Calling it a 'normalized, weighted composite score' is accurate.\n",
      "  -- The 'pos', 'neu', and 'neg' scores are ratios for proportions of text that fall in each category (so these\n",
      "     should all add up to be 1... or close to it with float operation).  These are the most useful metrics if\n",
      "     you want multidimensional measures of sentiment for a given sentence.\n",
      "----------------------------------------------------\n",
      "VADER is VERY SMART, handsome, and FUNNY!!!---------------------- {'neg': 0.0, 'neu': 0.233, 'pos': 0.767, 'compound': 0.9342}\n",
      "----------------------------------------------------\n",
      " - About the scoring: \n",
      "  -- The 'compound' score is computed by summing the valence scores of each word in the lexicon, adjusted\n",
      "     according to the rules, and then normalized to be between -1 (most extreme negative) and +1 (most extreme positive).\n",
      "     This is the most useful metric if you want a single unidimensional measure of sentiment for a given sentence.\n",
      "     Calling it a 'normalized, weighted composite score' is accurate.\n",
      "  -- The 'pos', 'neu', and 'neg' scores are ratios for proportions of text that fall in each category (so these\n",
      "     should all add up to be 1... or close to it with float operation).  These are the most useful metrics if\n",
      "     you want multidimensional measures of sentiment for a given sentence.\n",
      "----------------------------------------------------\n",
      "VADER is VERY SMART, uber handsome, and FRIGGIN FUNNY!!!--------- {'neg': 0.0, 'neu': 0.294, 'pos': 0.706, 'compound': 0.9469}\n",
      "----------------------------------------------------\n",
      " - About the scoring: \n",
      "  -- The 'compound' score is computed by summing the valence scores of each word in the lexicon, adjusted\n",
      "     according to the rules, and then normalized to be between -1 (most extreme negative) and +1 (most extreme positive).\n",
      "     This is the most useful metric if you want a single unidimensional measure of sentiment for a given sentence.\n",
      "     Calling it a 'normalized, weighted composite score' is accurate.\n",
      "  -- The 'pos', 'neu', and 'neg' scores are ratios for proportions of text that fall in each category (so these\n",
      "     should all add up to be 1... or close to it with float operation).  These are the most useful metrics if\n",
      "     you want multidimensional measures of sentiment for a given sentence.\n",
      "----------------------------------------------------\n",
      "VADER is not smart, handsome, nor funny.------------------------- {'neg': 0.646, 'neu': 0.354, 'pos': 0.0, 'compound': -0.7424}\n",
      "----------------------------------------------------\n",
      " - About the scoring: \n",
      "  -- The 'compound' score is computed by summing the valence scores of each word in the lexicon, adjusted\n",
      "     according to the rules, and then normalized to be between -1 (most extreme negative) and +1 (most extreme positive).\n",
      "     This is the most useful metric if you want a single unidimensional measure of sentiment for a given sentence.\n",
      "     Calling it a 'normalized, weighted composite score' is accurate.\n",
      "  -- The 'pos', 'neu', and 'neg' scores are ratios for proportions of text that fall in each category (so these\n",
      "     should all add up to be 1... or close to it with float operation).  These are the most useful metrics if\n",
      "     you want multidimensional measures of sentiment for a given sentence.\n",
      "----------------------------------------------------\n",
      "The book was good.----------------------------------------------- {'neg': 0.0, 'neu': 0.508, 'pos': 0.492, 'compound': 0.4404}\n",
      "----------------------------------------------------\n",
      " - About the scoring: \n",
      "  -- The 'compound' score is computed by summing the valence scores of each word in the lexicon, adjusted\n",
      "     according to the rules, and then normalized to be between -1 (most extreme negative) and +1 (most extreme positive).\n",
      "     This is the most useful metric if you want a single unidimensional measure of sentiment for a given sentence.\n",
      "     Calling it a 'normalized, weighted composite score' is accurate.\n",
      "  -- The 'pos', 'neu', and 'neg' scores are ratios for proportions of text that fall in each category (so these\n",
      "     should all add up to be 1... or close to it with float operation).  These are the most useful metrics if\n",
      "     you want multidimensional measures of sentiment for a given sentence.\n",
      "----------------------------------------------------\n",
      "At least it isn't a horrible book.------------------------------- {'neg': 0.0, 'neu': 0.678, 'pos': 0.322, 'compound': 0.431}\n",
      "----------------------------------------------------\n",
      " - About the scoring: \n",
      "  -- The 'compound' score is computed by summing the valence scores of each word in the lexicon, adjusted\n",
      "     according to the rules, and then normalized to be between -1 (most extreme negative) and +1 (most extreme positive).\n",
      "     This is the most useful metric if you want a single unidimensional measure of sentiment for a given sentence.\n",
      "     Calling it a 'normalized, weighted composite score' is accurate.\n",
      "  -- The 'pos', 'neu', and 'neg' scores are ratios for proportions of text that fall in each category (so these\n",
      "     should all add up to be 1... or close to it with float operation).  These are the most useful metrics if\n",
      "     you want multidimensional measures of sentiment for a given sentence.\n",
      "----------------------------------------------------\n",
      "The book was only kind of good.---------------------------------- {'neg': 0.0, 'neu': 0.697, 'pos': 0.303, 'compound': 0.3832}\n",
      "----------------------------------------------------\n",
      " - About the scoring: \n",
      "  -- The 'compound' score is computed by summing the valence scores of each word in the lexicon, adjusted\n",
      "     according to the rules, and then normalized to be between -1 (most extreme negative) and +1 (most extreme positive).\n",
      "     This is the most useful metric if you want a single unidimensional measure of sentiment for a given sentence.\n",
      "     Calling it a 'normalized, weighted composite score' is accurate.\n",
      "  -- The 'pos', 'neu', and 'neg' scores are ratios for proportions of text that fall in each category (so these\n",
      "     should all add up to be 1... or close to it with float operation).  These are the most useful metrics if\n",
      "     you want multidimensional measures of sentiment for a given sentence.\n",
      "----------------------------------------------------\n",
      "The plot was good, but the characters are uncompelling and the dialog is not great. {'neg': 0.327, 'neu': 0.579, 'pos': 0.094, 'compound': -0.7042}\n",
      "----------------------------------------------------\n",
      " - About the scoring: \n",
      "  -- The 'compound' score is computed by summing the valence scores of each word in the lexicon, adjusted\n",
      "     according to the rules, and then normalized to be between -1 (most extreme negative) and +1 (most extreme positive).\n",
      "     This is the most useful metric if you want a single unidimensional measure of sentiment for a given sentence.\n",
      "     Calling it a 'normalized, weighted composite score' is accurate.\n",
      "  -- The 'pos', 'neu', and 'neg' scores are ratios for proportions of text that fall in each category (so these\n",
      "     should all add up to be 1... or close to it with float operation).  These are the most useful metrics if\n",
      "     you want multidimensional measures of sentiment for a given sentence.\n",
      "----------------------------------------------------\n",
      "Today SUX!------------------------------------------------------- {'neg': 0.779, 'neu': 0.221, 'pos': 0.0, 'compound': -0.5461}\n",
      "----------------------------------------------------\n",
      " - About the scoring: \n",
      "  -- The 'compound' score is computed by summing the valence scores of each word in the lexicon, adjusted\n",
      "     according to the rules, and then normalized to be between -1 (most extreme negative) and +1 (most extreme positive).\n",
      "     This is the most useful metric if you want a single unidimensional measure of sentiment for a given sentence.\n",
      "     Calling it a 'normalized, weighted composite score' is accurate.\n",
      "  -- The 'pos', 'neu', and 'neg' scores are ratios for proportions of text that fall in each category (so these\n",
      "     should all add up to be 1... or close to it with float operation).  These are the most useful metrics if\n",
      "     you want multidimensional measures of sentiment for a given sentence.\n",
      "----------------------------------------------------\n",
      "Today only kinda sux! But I'll get by, lol----------------------- {'neg': 0.127, 'neu': 0.556, 'pos': 0.317, 'compound': 0.5249}\n",
      "----------------------------------------------------\n",
      " - About the scoring: \n",
      "  -- The 'compound' score is computed by summing the valence scores of each word in the lexicon, adjusted\n",
      "     according to the rules, and then normalized to be between -1 (most extreme negative) and +1 (most extreme positive).\n",
      "     This is the most useful metric if you want a single unidimensional measure of sentiment for a given sentence.\n",
      "     Calling it a 'normalized, weighted composite score' is accurate.\n",
      "  -- The 'pos', 'neu', and 'neg' scores are ratios for proportions of text that fall in each category (so these\n",
      "     should all add up to be 1... or close to it with float operation).  These are the most useful metrics if\n",
      "     you want multidimensional measures of sentiment for a given sentence.\n",
      "----------------------------------------------------\n",
      "Make sure you :) or :D today!------------------------------------ {'neg': 0.0, 'neu': 0.294, 'pos': 0.706, 'compound': 0.8633}\n",
      "----------------------------------------------------\n",
      " - About the scoring: \n",
      "  -- The 'compound' score is computed by summing the valence scores of each word in the lexicon, adjusted\n",
      "     according to the rules, and then normalized to be between -1 (most extreme negative) and +1 (most extreme positive).\n",
      "     This is the most useful metric if you want a single unidimensional measure of sentiment for a given sentence.\n",
      "     Calling it a 'normalized, weighted composite score' is accurate.\n",
      "  -- The 'pos', 'neu', and 'neg' scores are ratios for proportions of text that fall in each category (so these\n",
      "     should all add up to be 1... or close to it with float operation).  These are the most useful metrics if\n",
      "     you want multidimensional measures of sentiment for a given sentence.\n",
      "----------------------------------------------------\n",
      "Catch utf-8 emoji such as 💘 and 💋 and 😁-------------------------- {'neg': 0.0, 'neu': 0.583, 'pos': 0.417, 'compound': 0.875}\n",
      "----------------------------------------------------\n",
      " - About the scoring: \n",
      "  -- The 'compound' score is computed by summing the valence scores of each word in the lexicon, adjusted\n",
      "     according to the rules, and then normalized to be between -1 (most extreme negative) and +1 (most extreme positive).\n",
      "     This is the most useful metric if you want a single unidimensional measure of sentiment for a given sentence.\n",
      "     Calling it a 'normalized, weighted composite score' is accurate.\n",
      "  -- The 'pos', 'neu', and 'neg' scores are ratios for proportions of text that fall in each category (so these\n",
      "     should all add up to be 1... or close to it with float operation).  These are the most useful metrics if\n",
      "     you want multidimensional measures of sentiment for a given sentence.\n",
      "----------------------------------------------------\n",
      "Not bad at all--------------------------------------------------- {'neg': 0.0, 'neu': 0.513, 'pos': 0.487, 'compound': 0.431}\n",
      "----------------------------------------------------\n",
      " - About the scoring: \n",
      "  -- The 'compound' score is computed by summing the valence scores of each word in the lexicon, adjusted\n",
      "     according to the rules, and then normalized to be between -1 (most extreme negative) and +1 (most extreme positive).\n",
      "     This is the most useful metric if you want a single unidimensional measure of sentiment for a given sentence.\n",
      "     Calling it a 'normalized, weighted composite score' is accurate.\n",
      "  -- The 'pos', 'neu', and 'neg' scores are ratios for proportions of text that fall in each category (so these\n",
      "     should all add up to be 1... or close to it with float operation).  These are the most useful metrics if\n",
      "     you want multidimensional measures of sentiment for a given sentence.\n",
      "----------------------------------------------------\n"
     ]
    }
   ],
   "source": [
    "print(\"----------------------------------------------------\")\n",
    "print(\" - Analyze typical example cases, including handling of:\")\n",
    "print(\"  -- negations\")\n",
    "print(\"  -- punctuation emphasis & punctuation flooding\")\n",
    "print(\"  -- word-shape as emphasis (capitalization difference)\")\n",
    "print(\"  -- degree modifiers (intensifiers such as 'very' and dampeners such as 'kind of')\")\n",
    "print(\"  -- slang words as modifiers such as 'uber' or 'friggin' or 'kinda'\")\n",
    "print(\"  -- contrastive conjunction 'but' indicating a shift in sentiment; sentiment of later text is dominant\")\n",
    "print(\"  -- use of contractions as negations\")\n",
    "print(\"  -- sentiment laden emoticons such as :) and :D\")\n",
    "print(\"  -- utf-8 encoded emojis such as 💘 and 💋 and 😁\")\n",
    "print(\"  -- sentiment laden slang words (e.g., 'sux')\")\n",
    "print(\"  -- sentiment laden initialisms and acronyms (for example: 'lol') \\n\")\n",
    "for sentence in sentences:\n",
    "    vs = analyzer.polarity_scores(sentence)\n",
    "    print(\"{:-<65} {}\".format(sentence, str(vs)))\n",
    "    print(\"----------------------------------------------------\")\n",
    "    print(\" - About the scoring: \")\n",
    "    print(\"\"\"  -- The 'compound' score is computed by summing the valence scores of each word in the lexicon, adjusted\n",
    "     according to the rules, and then normalized to be between -1 (most extreme negative) and +1 (most extreme positive).\n",
    "     This is the most useful metric if you want a single unidimensional measure of sentiment for a given sentence.\n",
    "     Calling it a 'normalized, weighted composite score' is accurate.\"\"\")\n",
    "    print(\"\"\"  -- The 'pos', 'neu', and 'neg' scores are ratios for proportions of text that fall in each category (so these\n",
    "     should all add up to be 1... or close to it with float operation).  These are the most useful metrics if\n",
    "     you want multidimensional measures of sentiment for a given sentence.\"\"\")\n",
    "    print(\"----------------------------------------------------\")\n",
    "\n",
    "    # input(\"\\nPress Enter to continue the demo...\\n\")  # for DEMO purposes..."
   ]
  },
  {
   "cell_type": "code",
   "execution_count": 38,
   "id": "9f857a92",
   "metadata": {},
   "outputs": [
    {
     "name": "stdout",
     "output_type": "stream",
     "text": [
      "----------------------------------------------------\n",
      " - Analyze examples of tricky sentences that cause trouble to other sentiment analysis tools.\n",
      "  -- special case idioms - e.g., 'never good' vs 'never this good', or 'bad' vs 'bad ass'.\n",
      "  -- special uses of 'least' as negation versus comparison \n",
      "\n",
      "Sentiment analysis has never been good.------------------------------ {'neg': 0.325, 'neu': 0.675, 'pos': 0.0, 'compound': -0.3412}\n",
      "----------------------------------------------------\n",
      "----------------------------------------------------\n",
      " - VADER works best when analysis is done at the sentence level (but it can work on single words or entire novels).\n",
      "  -- For example, given the following paragraph text from a hypothetical movie review:\n",
      "\t'It was one of the worst movies I've seen, despite good reviews. Unbelievably bad acting!! Poor direction. VERY poor production. The movie was bad. Very bad movie. VERY BAD movie!'\n",
      "  -- You could use NLTK to break the paragraph into sentence tokens for VADER, then average the results for the paragraph like this: \n",
      "\n",
      "Sentiment analysis has never been this good!------------------------- {'neg': 0.0, 'neu': 0.621, 'pos': 0.379, 'compound': 0.5672}\n",
      "----------------------------------------------------\n",
      "----------------------------------------------------\n",
      " - VADER works best when analysis is done at the sentence level (but it can work on single words or entire novels).\n",
      "  -- For example, given the following paragraph text from a hypothetical movie review:\n",
      "\t'It was one of the worst movies I've seen, despite good reviews. Unbelievably bad acting!! Poor direction. VERY poor production. The movie was bad. Very bad movie. VERY BAD movie!'\n",
      "  -- You could use NLTK to break the paragraph into sentence tokens for VADER, then average the results for the paragraph like this: \n",
      "\n",
      "Most automated sentiment analysis tools are shit.-------------------- {'neg': 0.375, 'neu': 0.625, 'pos': 0.0, 'compound': -0.5574}\n",
      "----------------------------------------------------\n",
      "----------------------------------------------------\n",
      " - VADER works best when analysis is done at the sentence level (but it can work on single words or entire novels).\n",
      "  -- For example, given the following paragraph text from a hypothetical movie review:\n",
      "\t'It was one of the worst movies I've seen, despite good reviews. Unbelievably bad acting!! Poor direction. VERY poor production. The movie was bad. Very bad movie. VERY BAD movie!'\n",
      "  -- You could use NLTK to break the paragraph into sentence tokens for VADER, then average the results for the paragraph like this: \n",
      "\n",
      "With VADER, sentiment analysis is the shit!-------------------------- {'neg': 0.0, 'neu': 0.583, 'pos': 0.417, 'compound': 0.6476}\n",
      "----------------------------------------------------\n",
      "----------------------------------------------------\n",
      " - VADER works best when analysis is done at the sentence level (but it can work on single words or entire novels).\n",
      "  -- For example, given the following paragraph text from a hypothetical movie review:\n",
      "\t'It was one of the worst movies I've seen, despite good reviews. Unbelievably bad acting!! Poor direction. VERY poor production. The movie was bad. Very bad movie. VERY BAD movie!'\n",
      "  -- You could use NLTK to break the paragraph into sentence tokens for VADER, then average the results for the paragraph like this: \n",
      "\n",
      "Other sentiment analysis tools can be quite bad.--------------------- {'neg': 0.351, 'neu': 0.649, 'pos': 0.0, 'compound': -0.5849}\n",
      "----------------------------------------------------\n",
      "----------------------------------------------------\n",
      " - VADER works best when analysis is done at the sentence level (but it can work on single words or entire novels).\n",
      "  -- For example, given the following paragraph text from a hypothetical movie review:\n",
      "\t'It was one of the worst movies I've seen, despite good reviews. Unbelievably bad acting!! Poor direction. VERY poor production. The movie was bad. Very bad movie. VERY BAD movie!'\n",
      "  -- You could use NLTK to break the paragraph into sentence tokens for VADER, then average the results for the paragraph like this: \n",
      "\n",
      "On the other hand, VADER is quite bad ass---------------------------- {'neg': 0.0, 'neu': 0.423, 'pos': 0.577, 'compound': 0.802}\n",
      "----------------------------------------------------\n",
      "----------------------------------------------------\n",
      " - VADER works best when analysis is done at the sentence level (but it can work on single words or entire novels).\n",
      "  -- For example, given the following paragraph text from a hypothetical movie review:\n",
      "\t'It was one of the worst movies I've seen, despite good reviews. Unbelievably bad acting!! Poor direction. VERY poor production. The movie was bad. Very bad movie. VERY BAD movie!'\n",
      "  -- You could use NLTK to break the paragraph into sentence tokens for VADER, then average the results for the paragraph like this: \n",
      "\n",
      "VADER is such a badass!---------------------------------------------- {'neg': 0.0, 'neu': 0.598, 'pos': 0.402, 'compound': 0.4003}\n",
      "----------------------------------------------------\n",
      "----------------------------------------------------\n",
      " - VADER works best when analysis is done at the sentence level (but it can work on single words or entire novels).\n",
      "  -- For example, given the following paragraph text from a hypothetical movie review:\n",
      "\t'It was one of the worst movies I've seen, despite good reviews. Unbelievably bad acting!! Poor direction. VERY poor production. The movie was bad. Very bad movie. VERY BAD movie!'\n",
      "  -- You could use NLTK to break the paragraph into sentence tokens for VADER, then average the results for the paragraph like this: \n",
      "\n",
      "Without a doubt, excellent idea.------------------------------------- {'neg': 0.0, 'neu': 0.341, 'pos': 0.659, 'compound': 0.7013}\n",
      "----------------------------------------------------\n",
      "----------------------------------------------------\n",
      " - VADER works best when analysis is done at the sentence level (but it can work on single words or entire novels).\n",
      "  -- For example, given the following paragraph text from a hypothetical movie review:\n",
      "\t'It was one of the worst movies I've seen, despite good reviews. Unbelievably bad acting!! Poor direction. VERY poor production. The movie was bad. Very bad movie. VERY BAD movie!'\n",
      "  -- You could use NLTK to break the paragraph into sentence tokens for VADER, then average the results for the paragraph like this: \n",
      "\n",
      "Roger Dodger is one of the most compelling variations on this theme.- {'neg': 0.0, 'neu': 0.834, 'pos': 0.166, 'compound': 0.2944}\n",
      "----------------------------------------------------\n",
      "----------------------------------------------------\n",
      " - VADER works best when analysis is done at the sentence level (but it can work on single words or entire novels).\n",
      "  -- For example, given the following paragraph text from a hypothetical movie review:\n",
      "\t'It was one of the worst movies I've seen, despite good reviews. Unbelievably bad acting!! Poor direction. VERY poor production. The movie was bad. Very bad movie. VERY BAD movie!'\n",
      "  -- You could use NLTK to break the paragraph into sentence tokens for VADER, then average the results for the paragraph like this: \n",
      "\n",
      "Roger Dodger is at least compelling as a variation on the theme.----- {'neg': 0.0, 'neu': 0.853, 'pos': 0.147, 'compound': 0.2263}\n",
      "----------------------------------------------------\n",
      "----------------------------------------------------\n",
      " - VADER works best when analysis is done at the sentence level (but it can work on single words or entire novels).\n",
      "  -- For example, given the following paragraph text from a hypothetical movie review:\n",
      "\t'It was one of the worst movies I've seen, despite good reviews. Unbelievably bad acting!! Poor direction. VERY poor production. The movie was bad. Very bad movie. VERY BAD movie!'\n",
      "  -- You could use NLTK to break the paragraph into sentence tokens for VADER, then average the results for the paragraph like this: \n",
      "\n",
      "Roger Dodger is one of the least compelling variations on this theme. {'neg': 0.132, 'neu': 0.868, 'pos': 0.0, 'compound': -0.1695}\n",
      "----------------------------------------------------\n",
      "----------------------------------------------------\n",
      " - VADER works best when analysis is done at the sentence level (but it can work on single words or entire novels).\n",
      "  -- For example, given the following paragraph text from a hypothetical movie review:\n",
      "\t'It was one of the worst movies I've seen, despite good reviews. Unbelievably bad acting!! Poor direction. VERY poor production. The movie was bad. Very bad movie. VERY BAD movie!'\n",
      "  -- You could use NLTK to break the paragraph into sentence tokens for VADER, then average the results for the paragraph like this: \n",
      "\n",
      "Not such a badass after all.----------------------------------------- {'neg': 0.289, 'neu': 0.711, 'pos': 0.0, 'compound': -0.2584}\n",
      "----------------------------------------------------\n",
      "----------------------------------------------------\n",
      " - VADER works best when analysis is done at the sentence level (but it can work on single words or entire novels).\n",
      "  -- For example, given the following paragraph text from a hypothetical movie review:\n",
      "\t'It was one of the worst movies I've seen, despite good reviews. Unbelievably bad acting!! Poor direction. VERY poor production. The movie was bad. Very bad movie. VERY BAD movie!'\n",
      "  -- You could use NLTK to break the paragraph into sentence tokens for VADER, then average the results for the paragraph like this: \n",
      "\n",
      "Without a doubt, an excellent idea.---------------------------------- {'neg': 0.0, 'neu': 0.408, 'pos': 0.592, 'compound': 0.7013}\n",
      "----------------------------------------------------\n",
      "----------------------------------------------------\n",
      " - VADER works best when analysis is done at the sentence level (but it can work on single words or entire novels).\n",
      "  -- For example, given the following paragraph text from a hypothetical movie review:\n",
      "\t'It was one of the worst movies I've seen, despite good reviews. Unbelievably bad acting!! Poor direction. VERY poor production. The movie was bad. Very bad movie. VERY BAD movie!'\n",
      "  -- You could use NLTK to break the paragraph into sentence tokens for VADER, then average the results for the paragraph like this: \n",
      "\n"
     ]
    }
   ],
   "source": [
    "tricky_sentences = [\"Sentiment analysis has never been good.\",\n",
    "                        \"Sentiment analysis has never been this good!\",\n",
    "                        \"Most automated sentiment analysis tools are shit.\",\n",
    "                        \"With VADER, sentiment analysis is the shit!\",\n",
    "                        \"Other sentiment analysis tools can be quite bad.\",\n",
    "                        \"On the other hand, VADER is quite bad ass\",\n",
    "                        \"VADER is such a badass!\",  # slang with punctuation emphasis\n",
    "                        \"Without a doubt, excellent idea.\",\n",
    "                        \"Roger Dodger is one of the most compelling variations on this theme.\",\n",
    "                        \"Roger Dodger is at least compelling as a variation on the theme.\",\n",
    "                        \"Roger Dodger is one of the least compelling variations on this theme.\",\n",
    "                        \"Not such a badass after all.\",  # Capitalized negation with slang\n",
    "                        \"Without a doubt, an excellent idea.\"  # \"without {any} doubt\" as negation\n",
    "                        ]\n",
    "print(\"----------------------------------------------------\")\n",
    "print(\" - Analyze examples of tricky sentences that cause trouble to other sentiment analysis tools.\")\n",
    "print(\"  -- special case idioms - e.g., 'never good' vs 'never this good', or 'bad' vs 'bad ass'.\")\n",
    "print(\"  -- special uses of 'least' as negation versus comparison \\n\")\n",
    "for sentence in tricky_sentences:\n",
    "    vs = analyzer.polarity_scores(sentence)\n",
    "    print(\"{:-<69} {}\".format(sentence, str(vs)))\n",
    "    print(\"----------------------------------------------------\")\n",
    "\n",
    "    # input(\"\\nPress Enter to continue the demo...\\n\")  # for DEMO purposes...\n",
    "\n",
    "    print(\"----------------------------------------------------\")\n",
    "    print(\n",
    "        \" - VADER works best when analysis is done at the sentence level (but it can work on single words or entire novels).\")\n",
    "    paragraph = \"It was one of the worst movies I've seen, despite good reviews. Unbelievably bad acting!! Poor direction. VERY poor production. The movie was bad. Very bad movie. VERY BAD movie!\"\n",
    "    print(\"  -- For example, given the following paragraph text from a hypothetical movie review:\\n\\t'{}'\".format(\n",
    "        paragraph))\n",
    "    print(\n",
    "        \"  -- You could use NLTK to break the paragraph into sentence tokens for VADER, then average the results for the paragraph like this: \\n\")"
   ]
  },
  {
   "cell_type": "code",
   "execution_count": 39,
   "id": "7a528b7d",
   "metadata": {},
   "outputs": [],
   "source": [
    "from nltk import tokenize"
   ]
  },
  {
   "cell_type": "code",
   "execution_count": 40,
   "id": "969526f0",
   "metadata": {
    "scrolled": true
   },
   "outputs": [
    {
     "name": "stdout",
     "output_type": "stream",
     "text": [
      "It was one of the worst movies I've seen, despite good reviews.------ -0.7584\n",
      "AVERAGE SENTIMENT FOR PARAGRAPH: \t-0.1083\n",
      "----------------------------------------------------\n",
      "Unbelievably bad acting!!-------------------------------------------- -0.6572\n",
      "AVERAGE SENTIMENT FOR PARAGRAPH: \t-0.2022\n",
      "----------------------------------------------------\n",
      "Poor direction.------------------------------------------------------ -0.4767\n",
      "AVERAGE SENTIMENT FOR PARAGRAPH: \t-0.2703\n",
      "----------------------------------------------------\n",
      "VERY poor production.------------------------------------------------ -0.6281\n",
      "AVERAGE SENTIMENT FOR PARAGRAPH: \t-0.3601\n",
      "----------------------------------------------------\n",
      "The movie was bad.--------------------------------------------------- -0.5423\n",
      "AVERAGE SENTIMENT FOR PARAGRAPH: \t-0.4375\n",
      "----------------------------------------------------\n",
      "Very bad movie.------------------------------------------------------ -0.5849\n",
      "AVERAGE SENTIMENT FOR PARAGRAPH: \t-0.5211\n",
      "----------------------------------------------------\n",
      "VERY BAD movie!------------------------------------------------------ -0.7616\n",
      "AVERAGE SENTIMENT FOR PARAGRAPH: \t-0.6299\n",
      "----------------------------------------------------\n"
     ]
    }
   ],
   "source": [
    "sentence_list = tokenize.sent_tokenize(paragraph)\n",
    "paragraphSentiments = 0.0\n",
    "for sentence in sentence_list:\n",
    "    vs = analyzer.polarity_scores(sentence)\n",
    "    print(\"{:-<69} {}\".format(sentence, str(vs[\"compound\"])))\n",
    "    paragraphSentiments += vs[\"compound\"]\n",
    "    print(\"AVERAGE SENTIMENT FOR PARAGRAPH: \\t\" + str(round(paragraphSentiments / len(sentence_list), 4)))\n",
    "    print(\"----------------------------------------------------\")\n"
   ]
  },
  {
   "cell_type": "code",
   "execution_count": 41,
   "id": "1f4e48e4",
   "metadata": {
    "scrolled": true
   },
   "outputs": [
    {
     "name": "stdout",
     "output_type": "stream",
     "text": [
      "----------------------------------------------------\n",
      " - Analyze sentiment of IMAGES/VIDEO data based on annotation 'tags' or image labels. \n",
      "\n",
      "balloons------- 0.0\n",
      "AVERAGE SENTIMENT OF TAGS/LABELS: \t0.0\n",
      "\t\n",
      "cake----------- 0.0\n",
      "AVERAGE SENTIMENT OF TAGS/LABELS: \t0.0\n",
      "\t\n",
      "candles-------- 0.0\n",
      "AVERAGE SENTIMENT OF TAGS/LABELS: \t0.0\n",
      "\t\n",
      "happy birthday- 0.5719\n",
      "AVERAGE SENTIMENT OF TAGS/LABELS: \t0.0715\n",
      "\t\n",
      "friends-------- 0.4767\n",
      "AVERAGE SENTIMENT OF TAGS/LABELS: \t0.0596\n",
      "\t\n",
      "laughing------- 0.4939\n",
      "AVERAGE SENTIMENT OF TAGS/LABELS: \t0.0617\n",
      "\t\n",
      "smiling-------- 0.4588\n",
      "AVERAGE SENTIMENT OF TAGS/LABELS: \t0.0573\n",
      "\t\n",
      "party---------- 0.4019\n",
      "AVERAGE SENTIMENT OF TAGS/LABELS: \t0.0502\n",
      "\t\n",
      "riot----------- -0.5574\n",
      "AVERAGE SENTIMENT OF TAGS/LABELS: \t-0.0697\n",
      "----------------------------------------------------\n",
      "fire----------- -0.34\n",
      "AVERAGE SENTIMENT OF TAGS/LABELS: \t-0.1122\n",
      "----------------------------------------------------\n",
      "fight---------- -0.3818\n",
      "AVERAGE SENTIMENT OF TAGS/LABELS: \t-0.1599\n",
      "----------------------------------------------------\n",
      "blood---------- 0.0\n",
      "AVERAGE SENTIMENT OF TAGS/LABELS: \t-0.1599\n",
      "----------------------------------------------------\n",
      "mob------------ 0.0\n",
      "AVERAGE SENTIMENT OF TAGS/LABELS: \t-0.1599\n",
      "----------------------------------------------------\n",
      "war------------ -0.5994\n",
      "AVERAGE SENTIMENT OF TAGS/LABELS: \t-0.2348\n",
      "----------------------------------------------------\n",
      "police--------- 0.0\n",
      "AVERAGE SENTIMENT OF TAGS/LABELS: \t-0.2348\n",
      "----------------------------------------------------\n",
      "tear gas------- 0.0\n",
      "AVERAGE SENTIMENT OF TAGS/LABELS: \t-0.2348\n",
      "----------------------------------------------------\n"
     ]
    }
   ],
   "source": [
    "print(\"----------------------------------------------------\")\n",
    "print(\" - Analyze sentiment of IMAGES/VIDEO data based on annotation 'tags' or image labels. \\n\")\n",
    "conceptList = [\"balloons\", \"cake\", \"candles\", \"happy birthday\", \"friends\", \"laughing\", \"smiling\", \"party\"]\n",
    "conceptSentiments = 0.0\n",
    "for concept in conceptList:\n",
    "    vs = analyzer.polarity_scores(concept)\n",
    "    print(\"{:-<15} {}\".format(concept, str(vs['compound'])))\n",
    "    conceptSentiments += vs[\"compound\"]\n",
    "    print(\"AVERAGE SENTIMENT OF TAGS/LABELS: \\t\" + str(round(conceptSentiments / len(conceptList), 4)))\n",
    "    print(\"\\t\")\n",
    "    conceptList = [\"riot\", \"fire\", \"fight\", \"blood\", \"mob\", \"war\", \"police\", \"tear gas\"]\n",
    "    conceptSentiments = 0.0\n",
    "for concept in conceptList:\n",
    "    vs = analyzer.polarity_scores(concept)\n",
    "    print(\"{:-<15} {}\".format(concept, str(vs['compound'])))\n",
    "    conceptSentiments += vs[\"compound\"]\n",
    "    print(\"AVERAGE SENTIMENT OF TAGS/LABELS: \\t\" + str(round(conceptSentiments / len(conceptList), 4)))\n",
    "    print(\"----------------------------------------------------\")\n"
   ]
  },
  {
   "cell_type": "code",
   "execution_count": 42,
   "id": "71e871f7",
   "metadata": {},
   "outputs": [
    {
     "name": "stdout",
     "output_type": "stream",
     "text": [
      "\n",
      "Would you like to run VADER demo examples with NON-ENGLISH text? \n",
      " (Note: requires Internet access and uses the 'requests' library) \n",
      " Type 'y' or 'n', then press Enter: y\n",
      "\n",
      "----------------------------------------------------\n",
      " - Analyze sentiment of NON ENGLISH text...for example:\n",
      "  -- French, German, Spanish, Italian, Russian, Japanese, Arabic, Chinese(Simplified) , Chinese(Traditional)\n",
      "  -- many other languages supported. \n",
      "\n"
     ]
    }
   ],
   "source": [
    "do_translate = input(\n",
    "        \"\\nWould you like to run VADER demo examples with NON-ENGLISH text? \\n (Note: requires Internet access and uses the 'requests' library) \\n Type 'y' or 'n', then press Enter: \")\n",
    "if do_translate.lower().lstrip().__contains__(\"y\"):\n",
    "    import requests\n",
    "    print(\"\\n----------------------------------------------------\")\n",
    "    print(\" - Analyze sentiment of NON ENGLISH text...for example:\")\n",
    "    print(\"  -- French, German, Spanish, Italian, Russian, Japanese, Arabic, Chinese(Simplified) , Chinese(Traditional)\")\n",
    "    print(\"  -- many other languages supported. \\n\")\n",
    "    languages = [\"English\", \"French\", \"German\", \"Spanish\", \"Italian\", \"Russian\", \"Japanese\", \"Arabic\", \"Chinese(Simplified)\", \"Chinese(Traditional)\"]\n",
    "    language_codes = [\"en\", \"fr\", \"de\", \"es\", \"it\", \"ru\", \"ja\", \"ar\", \"zh-CN\", \"zh-TW\"]\n",
    "    nonEnglish_sentences = [\"I'm surprised to see just how amazingly helpful VADER is!\",\n",
    "                                \"Je suis surpris de voir comment VADER est incroyablement utile !\",\n",
    "                                \"Ich bin überrascht zu sehen, nur wie erstaunlich nützlich VADER!\",\n",
    "                                \"Me sorprende ver sólo cómo increíblemente útil VADER!\",\n",
    "                                \"Sono sorpreso di vedere solo come incredibilmente utile VADER è!\",\n",
    "                                \"Я удивлен увидеть, как раз как удивительно полезно ВЕЙДЕРА!\",\n",
    "                                \"私はちょうどどのように驚くほど役に立つベイダーを見て驚いています!\",\n",
    "                                \"أنا مندهش لرؤية فقط كيف مثير للدهشة فيدر فائدة!\",\n",
    "                                \"我很惊讶地看到VADER是如此有用!\",\n",
    "                                \"我很驚訝地看到VADER是如此有用!\"\n",
    "                                ]"
   ]
  },
  {
   "cell_type": "code",
   "execution_count": 43,
   "id": "48788498",
   "metadata": {
    "scrolled": true
   },
   "outputs": [
    {
     "name": "stdout",
     "output_type": "stream",
     "text": [
      "- English : I'm surprised to see just how amazingly helpful VADER is!            \t 0.6468 (No translation needed)\n",
      "----------------------------------------------------\n",
      "\n",
      "\n",
      " Demo Done!\n",
      "- French  : Je suis surpris de voir comment VADER est incroyablement utile !     \t 0.6581 (MemoryNet Translation Service)\n",
      "----------------------------------------------------\n",
      "\n",
      "\n",
      " Demo Done!\n",
      "- German  : Ich bin überrascht zu sehen, nur wie erstaunlich nützlich VADER!     \t 0.6581 (MemoryNet Translation Service)\n",
      "----------------------------------------------------\n",
      "\n",
      "\n",
      " Demo Done!\n",
      "- Spanish : Me sorprende ver sólo cómo increíblemente útil VADER!                \t 0.6468 (MemoryNet Translation Service)\n",
      "----------------------------------------------------\n",
      "\n",
      "\n",
      " Demo Done!\n",
      "- Italian : Sono sorpreso di vedere solo come incredibilmente utile VADER è!     \t 0.6581 (MemoryNet Translation Service)\n",
      "----------------------------------------------------\n",
      "\n",
      "\n",
      " Demo Done!\n",
      "- Russian : Я удивлен увидеть, как раз как удивительно полезно ВЕЙДЕРА!          \t 0.7424 (MemoryNet Translation Service)\n",
      "----------------------------------------------------\n",
      "\n",
      "\n",
      " Demo Done!\n",
      "- Japanese: 私はちょうどどのように驚くほど役に立つベイダーを見て驚いています!                                    \t 0.7345 (MemoryNet Translation Service)\n",
      "----------------------------------------------------\n",
      "\n",
      "\n",
      " Demo Done!\n",
      "- Arabic  : أنا مندهش لرؤية فقط كيف مثير للدهشة فيدر فائدة!                      \t 0.8356 (MemoryNet Translation Service)\n",
      "----------------------------------------------------\n",
      "\n",
      "\n",
      " Demo Done!\n",
      "- Chinese(Simplified): 我很惊讶地看到VADER是如此有用!                                                   \t 0.7125 (MemoryNet Translation Service)\n",
      "----------------------------------------------------\n",
      "\n",
      "\n",
      " Demo Done!\n",
      "- Chinese(Traditional): 我很驚訝地看到VADER是如此有用!                                                   \t 0.7125 (MemoryNet Translation Service)\n",
      "----------------------------------------------------\n",
      "\n",
      "\n",
      " Demo Done!\n"
     ]
    }
   ],
   "source": [
    "for sentence in nonEnglish_sentences:\n",
    "            to_lang = \"en\"\n",
    "            from_lang = language_codes[nonEnglish_sentences.index(sentence)]\n",
    "            if (from_lang == \"en\") or (from_lang == \"en-US\"):\n",
    "                translation = sentence\n",
    "                translator_name = \"No translation needed\"\n",
    "            else:  # please note usage limits for My Memory Translation Service:   http://mymemory.translated.net/doc/usagelimits.php\n",
    "                # using   MY MEMORY NET   http://mymemory.translated.net\n",
    "                api_url = \"http://mymemory.translated.net/api/get?q={}&langpair={}|{}\".format(sentence, from_lang,\n",
    "                                                                                              to_lang)\n",
    "                hdrs = {\n",
    "                    'User-Agent': 'Mozilla/5.0 (X11; Linux x86_64) AppleWebKit/537.11 (KHTML, like Gecko) Chrome/23.0.1271.64 Safari/537.11',\n",
    "                    'Accept': 'text/html,application/xhtml+xml,application/xml;q=0.9,*/*;q=0.8',\n",
    "                    'Accept-Charset': 'ISO-8859-1,utf-8;q=0.7,*;q=0.3',\n",
    "                    'Accept-Encoding': 'none',\n",
    "                    'Accept-Language': 'en-US,en;q=0.8',\n",
    "                    'Connection': 'keep-alive'}\n",
    "                response = requests.get(api_url, headers=hdrs)\n",
    "                response_json = json.loads(response.text)\n",
    "                translation = response_json[\"responseData\"][\"translatedText\"]\n",
    "                translator_name = \"MemoryNet Translation Service\"\n",
    "            if(translation is not None):\n",
    "                vs = analyzer.polarity_scores(translation)\n",
    "                print(\"- {: <8}: {: <69}\\t {} ({})\".format(languages[nonEnglish_sentences.index(sentence)], sentence,\n",
    "                                                           str(vs['compound']), translator_name))\n",
    "                print(\"----------------------------------------------------\")\n",
    "                \n",
    "                print(\"\\n\\n Demo Done!\")\n"
   ]
  },
  {
   "cell_type": "code",
   "execution_count": 44,
   "id": "c4ff85d6",
   "metadata": {},
   "outputs": [
    {
     "name": "stdout",
     "output_type": "stream",
     "text": [
      "I saw this film opening weekend in Australia, anticipating with an excellent cast of Ledger, Edgerton, Bloom, Watts and Rush that the definitive story of Ned Kelly would unfold before me. Unfortunately, despite an outstanding performance by Heath Ledger in the lead role, the plot was paper thin....which doesn't inspire me to read \"Our Sunshine\". There were some other plus points, the support acting from Edgerton in particular, assured direction from Jordan (confirming his talent on show in Buffalo Soldiers as well), and production design that gave a real feel of harshness to the Australian bush, much as the Irish immigrants of the early 19th century must have seen it. But I can't help feeling that another opportunity has been missed to tell the real story of an Australian folk hero (or was he?)....in what I suspect is a concession to Hollywood and selling the picture in the US. Oh well, at least Jordan and the producers didn't agree to lose the beards just to please Universal...<br /><br />Guess I will just have to content myself with Peter Carey's excellent \"Secret History of the Kelly Gang\". 4/10\n"
     ]
    },
    {
     "data": {
      "text/plain": [
       "{'neg': 0.088, 'neu': 0.771, 'pos': 0.142, 'compound': 0.9256}"
      ]
     },
     "execution_count": 44,
     "metadata": {},
     "output_type": "execute_result"
    }
   ],
   "source": [
    "print(example)\n",
    "sia.polarity_scores(example)"
   ]
  },
  {
   "cell_type": "markdown",
   "id": "adb37572",
   "metadata": {},
   "source": [
    "#  Overall Analysis of VADER "
   ]
  },
  {
   "cell_type": "markdown",
   "id": "10797dbd",
   "metadata": {},
   "source": [
    "In natural language processing (NLP), sentiment analysis is a pivotal tool for unraveling the emotional tone contained in textual content. Among the numerous sentiment analysis tools available, one particularly noteworthy solution is VADER (Valence Aware Dictionary and Sentiment Reasoner). VADER provides a unique approach that leverages pre-built emotion vocabularies to not only identify standard emotions such as positive, negative, and neutral but also measure the intensity of these emotions. This nuanced methodology sets VADER apart, making it a powerful choice for identifying emotions in diverse text contexts.\n",
    "\n",
    "VADER's special feature emphasizes efficiency. At its core, it uses a valence-aware lexicon, a database of words assigned polarity scores indicating positive, negative, or neutral. VADER can aggregate these scores to analyze the sentiment of an entire sentence or document, providing a more comprehensive understanding of the emotional nuances present. Additionally, VADER provides an emotional intensity score, allowing you to evaluate the intensity of your emotions in detail. This granular approach adds depth to the analysis and enriches the interpretation of text emotions. VADER also processes emojis and slang, understanding the evolving nature of language to accurately capture emotions across various communication styles.\n",
    "The GitHub repository for VADER Sentiment Analysis is a valuable resource hub, providing users access to pre-trained sentiment analysis models, detailed vocabulary and rule descriptions, and comprehensive dataset information.\n",
    "\n",
    "One of the main offerings of the repository is a collection of pre-trained sentiment analysis models. These models include the vocabulary and rules needed for sentiment analysis tasks, reducing the need for users to build models from scratch. This accessibility speeds the integration of sentiment analysis capabilities into a variety of NLP applications.\n",
    "For those who want to understand the inner workings of VADER, the repository provides a sentimental vocabulary and the rules that govern its analysis. Transparency allows users to understand the tool's methodology and customize it to suit their specific needs. Understanding the rules and vocabulary behind the sentiment analysis process is important for users who want deeper insight into the tool's decision-making process.\n",
    "The repository also describes the datasets used in VADER development and testing. Access to this information is critical for researchers and practitioners who want to select the right dataset for their specific use cases. As a result, users can select datasets that are relevant and robust to the context in which they are working.\n",
    "\n",
    "As a result, VADER sentiment analysis appears to be an efficient and highly versatile tool for analyzing and deciphering text data sentiment. NLP practitioners and sentiment analysis enthusiasts will benefit from its innovative features, including sentiment intensity analysis and adaptability to informal language. VADER's proficiency is underpinned by vocabularies, rules, and datasets that can be found in the GitHub repository. The VADER platform remains resilient and adapts deftly to the changing landscape of human expression as language evolves."
   ]
  },
  {
   "cell_type": "markdown",
   "id": "8d9772ad",
   "metadata": {},
   "source": [
    "# References"
   ]
  },
  {
   "cell_type": "markdown",
   "id": "3babadd5",
   "metadata": {},
   "source": [
    "Hutto, C. J. “Cjhutto/VaderSentiment.” GitHub, 8 Dec. 2022, github.com/cjhutto/vaderSentiment#resources-and-dataset-descriptions.\n",
    "\n",
    "Socher, Richard, et al. “Recursive Deep Models for Semantic Compositionality over a Sentiment Treebank.” Empirical Methods in Natural Language Processing, 1 Oct. 2013, pp. 1631–1642.\n"
   ]
  },
  {
   "cell_type": "code",
   "execution_count": null,
   "id": "d9eda819",
   "metadata": {},
   "outputs": [],
   "source": []
  }
 ],
 "metadata": {
  "kernelspec": {
   "display_name": "Python 3 (ipykernel)",
   "language": "python",
   "name": "python3"
  },
  "language_info": {
   "codemirror_mode": {
    "name": "ipython",
    "version": 3
   },
   "file_extension": ".py",
   "mimetype": "text/x-python",
   "name": "python",
   "nbconvert_exporter": "python",
   "pygments_lexer": "ipython3",
   "version": "3.11.4"
  }
 },
 "nbformat": 4,
 "nbformat_minor": 5
}
